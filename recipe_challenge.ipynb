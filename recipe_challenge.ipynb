{
 "cells": [
  {
   "cell_type": "markdown",
   "source": [
    "# Imports"
   ],
   "metadata": {}
  },
  {
   "cell_type": "code",
   "execution_count": 21,
   "source": [
    "import pickle\r\n",
    "# further imports go here\r\n",
    "import pandas as pd\r\n",
    "import seaborn as sns"
   ],
   "outputs": [],
   "metadata": {}
  },
  {
   "cell_type": "markdown",
   "source": [
    "# Load Data"
   ],
   "metadata": {}
  },
  {
   "cell_type": "code",
   "execution_count": 6,
   "source": [
    "TRAIN_PATH = './train_set_top_5.pkl'\r\n",
    "TEST_PATH = './test_set_top_5.pkl'"
   ],
   "outputs": [],
   "metadata": {}
  },
  {
   "cell_type": "code",
   "execution_count": 2,
   "source": [
    "with open('train_set_top_5.pkl', 'rb') as f:\r\n",
    "    train_set_top_5 = pickle.load(f)\r\n",
    "\r\n",
    "with open('test_set_top_5.pkl', 'rb') as f:\r\n",
    "    test_set_top_5 = pickle.load(f)\r\n",
    "\r\n"
   ],
   "outputs": [],
   "metadata": {}
  },
  {
   "cell_type": "code",
   "execution_count": 11,
   "source": [
    "train_set_top_5[:3]"
   ],
   "outputs": [
    {
     "output_type": "execute_result",
     "data": {
      "text/plain": [
       "[{'id': 14215,\n",
       "  'cuisine': 'italian',\n",
       "  'ingredients': ['bread crumbs',\n",
       "   'large eggs',\n",
       "   'all-purpose flour',\n",
       "   'fresh basil',\n",
       "   'crushed tomatoes',\n",
       "   'shallots',\n",
       "   'dried oregano',\n",
       "   'mozzarella cheese',\n",
       "   'grated parmesan cheese',\n",
       "   'garlic cloves',\n",
       "   'boneless chicken thighs',\n",
       "   'olive oil',\n",
       "   'crushed red pepper flakes']},\n",
       " {'id': 13633,\n",
       "  'cuisine': 'italian',\n",
       "  'ingredients': ['black pepper',\n",
       "   'salt',\n",
       "   'tomatoes',\n",
       "   'large eggs',\n",
       "   'red bell pepper',\n",
       "   'olive oil',\n",
       "   'garlic cloves',\n",
       "   'fresh basil',\n",
       "   'whole milk',\n",
       "   'flat leaf parsley']},\n",
       " {'id': 33001,\n",
       "  'cuisine': 'indian',\n",
       "  'ingredients': ['water',\n",
       "   'oil',\n",
       "   'semolina',\n",
       "   'cardamom',\n",
       "   'Nido Milk Powder',\n",
       "   'sugar',\n",
       "   'teas']}]"
      ]
     },
     "metadata": {},
     "execution_count": 11
    }
   ],
   "metadata": {
    "scrolled": true
   }
  },
  {
   "cell_type": "markdown",
   "source": [
    "# Inspect Labels"
   ],
   "metadata": {}
  },
  {
   "cell_type": "code",
   "execution_count": 4,
   "source": [
    "import collections\r\n",
    "labels = [el[\"cuisine\"] for el in train_set_top_5]\r\n",
    "sorted(collections.Counter(labels).items(), key=lambda x: x[1], reverse=True)"
   ],
   "outputs": [
    {
     "output_type": "execute_result",
     "data": {
      "text/plain": [
       "[('italian', 6294),\n",
       " ('mexican', 5133),\n",
       " ('southern_us', 3445),\n",
       " ('indian', 2435),\n",
       " ('chinese', 2110)]"
      ]
     },
     "metadata": {},
     "execution_count": 4
    }
   ],
   "metadata": {}
  },
  {
   "cell_type": "code",
   "execution_count": 7,
   "source": [
    "df_train = pd.read_pickle(TRAIN_PATH)\r\n",
    "df_test = pd.read_pickle(TEST_PATH)"
   ],
   "outputs": [],
   "metadata": {}
  },
  {
   "cell_type": "code",
   "execution_count": 12,
   "source": [
    "df_train = pd.DataFrame.from_dict(df_train)\r\n",
    "df_test = pd.DataFrame.from_dict(df_test)\r\n"
   ],
   "outputs": [],
   "metadata": {}
  },
  {
   "cell_type": "code",
   "execution_count": 23,
   "source": [
    "df_train"
   ],
   "outputs": [
    {
     "output_type": "execute_result",
     "data": {
      "text/html": [
       "<div>\n",
       "<style scoped>\n",
       "    .dataframe tbody tr th:only-of-type {\n",
       "        vertical-align: middle;\n",
       "    }\n",
       "\n",
       "    .dataframe tbody tr th {\n",
       "        vertical-align: top;\n",
       "    }\n",
       "\n",
       "    .dataframe thead th {\n",
       "        text-align: right;\n",
       "    }\n",
       "</style>\n",
       "<table border=\"1\" class=\"dataframe\">\n",
       "  <thead>\n",
       "    <tr style=\"text-align: right;\">\n",
       "      <th></th>\n",
       "      <th>id</th>\n",
       "      <th>cuisine</th>\n",
       "      <th>ingredients</th>\n",
       "    </tr>\n",
       "  </thead>\n",
       "  <tbody>\n",
       "    <tr>\n",
       "      <th>0</th>\n",
       "      <td>14215</td>\n",
       "      <td>italian</td>\n",
       "      <td>[bread crumbs, large eggs, all-purpose flour, ...</td>\n",
       "    </tr>\n",
       "    <tr>\n",
       "      <th>1</th>\n",
       "      <td>13633</td>\n",
       "      <td>italian</td>\n",
       "      <td>[black pepper, salt, tomatoes, large eggs, red...</td>\n",
       "    </tr>\n",
       "    <tr>\n",
       "      <th>2</th>\n",
       "      <td>33001</td>\n",
       "      <td>indian</td>\n",
       "      <td>[water, oil, semolina, cardamom, Nido Milk Pow...</td>\n",
       "    </tr>\n",
       "    <tr>\n",
       "      <th>3</th>\n",
       "      <td>14726</td>\n",
       "      <td>southern_us</td>\n",
       "      <td>[parmesan cheese, salt, water, tomato salsa, b...</td>\n",
       "    </tr>\n",
       "    <tr>\n",
       "      <th>4</th>\n",
       "      <td>22902</td>\n",
       "      <td>mexican</td>\n",
       "      <td>[vegetable oil, water, long-grain rice, salt, ...</td>\n",
       "    </tr>\n",
       "    <tr>\n",
       "      <th>...</th>\n",
       "      <td>...</td>\n",
       "      <td>...</td>\n",
       "      <td>...</td>\n",
       "    </tr>\n",
       "    <tr>\n",
       "      <th>19412</th>\n",
       "      <td>20004</td>\n",
       "      <td>mexican</td>\n",
       "      <td>[plain yogurt, Mexican cheese blend, dried dil...</td>\n",
       "    </tr>\n",
       "    <tr>\n",
       "      <th>19413</th>\n",
       "      <td>36416</td>\n",
       "      <td>southern_us</td>\n",
       "      <td>[eggs, Mexican cheese blend, bacon, milk, jala...</td>\n",
       "    </tr>\n",
       "    <tr>\n",
       "      <th>19414</th>\n",
       "      <td>2054</td>\n",
       "      <td>mexican</td>\n",
       "      <td>[reduced fat monterey jack cheese, flour torti...</td>\n",
       "    </tr>\n",
       "    <tr>\n",
       "      <th>19415</th>\n",
       "      <td>22887</td>\n",
       "      <td>italian</td>\n",
       "      <td>[grated parmesan cheese, sausages, dried orega...</td>\n",
       "    </tr>\n",
       "    <tr>\n",
       "      <th>19416</th>\n",
       "      <td>36467</td>\n",
       "      <td>chinese</td>\n",
       "      <td>[water, garlic, chicken stock, Shaoxing wine, ...</td>\n",
       "    </tr>\n",
       "  </tbody>\n",
       "</table>\n",
       "<p>19417 rows × 3 columns</p>\n",
       "</div>"
      ],
      "text/plain": [
       "          id      cuisine                                        ingredients\n",
       "0      14215      italian  [bread crumbs, large eggs, all-purpose flour, ...\n",
       "1      13633      italian  [black pepper, salt, tomatoes, large eggs, red...\n",
       "2      33001       indian  [water, oil, semolina, cardamom, Nido Milk Pow...\n",
       "3      14726  southern_us  [parmesan cheese, salt, water, tomato salsa, b...\n",
       "4      22902      mexican  [vegetable oil, water, long-grain rice, salt, ...\n",
       "...      ...          ...                                                ...\n",
       "19412  20004      mexican  [plain yogurt, Mexican cheese blend, dried dil...\n",
       "19413  36416  southern_us  [eggs, Mexican cheese blend, bacon, milk, jala...\n",
       "19414   2054      mexican  [reduced fat monterey jack cheese, flour torti...\n",
       "19415  22887      italian  [grated parmesan cheese, sausages, dried orega...\n",
       "19416  36467      chinese  [water, garlic, chicken stock, Shaoxing wine, ...\n",
       "\n",
       "[19417 rows x 3 columns]"
      ]
     },
     "metadata": {},
     "execution_count": 23
    }
   ],
   "metadata": {}
  },
  {
   "cell_type": "markdown",
   "source": [
    "# Preprocessing & Feature Engineering"
   ],
   "metadata": {}
  },
  {
   "cell_type": "code",
   "execution_count": 26,
   "source": [
    "# Write your preprocessing and feature engineering code\r\n"
   ],
   "outputs": [],
   "metadata": {}
  },
  {
   "cell_type": "markdown",
   "source": [
    "# Training: Choose your poison\n",
    "**Goal: predict the label 'cuisine' from the ingredients.**\n",
    "\n"
   ],
   "metadata": {}
  },
  {
   "cell_type": "code",
   "execution_count": 6,
   "source": [
    "# Create and fit your model on the training data."
   ],
   "outputs": [],
   "metadata": {}
  },
  {
   "cell_type": "markdown",
   "source": [
    "# Evaluation:"
   ],
   "metadata": {}
  },
  {
   "cell_type": "markdown",
   "source": [
    "## Performance Metrics\n"
   ],
   "metadata": {}
  },
  {
   "cell_type": "code",
   "execution_count": 7,
   "source": [
    "# write code to compute your preferred performance metrics on training and test data\r\n"
   ],
   "outputs": [],
   "metadata": {}
  },
  {
   "cell_type": "markdown",
   "source": [
    "## Confusion Matrix"
   ],
   "metadata": {}
  },
  {
   "cell_type": "code",
   "execution_count": 8,
   "source": [
    "# write code to plot a confusion matrix"
   ],
   "outputs": [],
   "metadata": {}
  },
  {
   "cell_type": "markdown",
   "source": [
    "## ROC Curve"
   ],
   "metadata": {}
  },
  {
   "cell_type": "code",
   "execution_count": 9,
   "source": [
    "# write code to draw a ROC curve per class in your model"
   ],
   "outputs": [],
   "metadata": {}
  }
 ],
 "metadata": {
  "kernelspec": {
   "name": "python3",
   "display_name": "Python 3.8.8 64-bit"
  },
  "language_info": {
   "codemirror_mode": {
    "name": "ipython",
    "version": 3
   },
   "file_extension": ".py",
   "mimetype": "text/x-python",
   "name": "python",
   "nbconvert_exporter": "python",
   "pygments_lexer": "ipython3",
   "version": "3.8.8"
  },
  "interpreter": {
   "hash": "c4a6cc1c2df5ddd62d6925b2a7bdee9abacf912eab37272999970e810b9642fd"
  }
 },
 "nbformat": 4,
 "nbformat_minor": 5
}