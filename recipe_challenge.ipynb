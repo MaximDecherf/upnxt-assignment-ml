{
 "cells": [
  {
   "cell_type": "markdown",
   "source": [
    "# Imports"
   ],
   "metadata": {}
  },
  {
   "cell_type": "code",
   "execution_count": 1,
   "source": [
    "import pickle\n",
    "# further imports go here\n"
   ],
   "outputs": [],
   "metadata": {}
  },
  {
   "cell_type": "markdown",
   "source": [
    "# Load Data"
   ],
   "metadata": {}
  },
  {
   "cell_type": "code",
   "execution_count": 2,
   "source": [
    "with open('train_set_top_5.pkl', 'rb') as f:\n",
    "    train_set_top_5 = pickle.load(f)\n",
    "\n",
    "with open('test_set_top_5.pkl', 'rb') as f:\n",
    "    test_set_top_5 = pickle.load(f)\n",
    "\n"
   ],
   "outputs": [],
   "metadata": {}
  },
  {
   "cell_type": "code",
   "execution_count": 3,
   "source": [
    "train_set_top_5[:3]"
   ],
   "outputs": [
    {
     "output_type": "execute_result",
     "data": {
      "text/plain": [
       "[{'id': 14215,\n",
       "  'cuisine': 'italian',\n",
       "  'ingredients': ['bread crumbs',\n",
       "   'large eggs',\n",
       "   'all-purpose flour',\n",
       "   'fresh basil',\n",
       "   'crushed tomatoes',\n",
       "   'shallots',\n",
       "   'dried oregano',\n",
       "   'mozzarella cheese',\n",
       "   'grated parmesan cheese',\n",
       "   'garlic cloves',\n",
       "   'boneless chicken thighs',\n",
       "   'olive oil',\n",
       "   'crushed red pepper flakes']},\n",
       " {'id': 13633,\n",
       "  'cuisine': 'italian',\n",
       "  'ingredients': ['black pepper',\n",
       "   'salt',\n",
       "   'tomatoes',\n",
       "   'large eggs',\n",
       "   'red bell pepper',\n",
       "   'olive oil',\n",
       "   'garlic cloves',\n",
       "   'fresh basil',\n",
       "   'whole milk',\n",
       "   'flat leaf parsley']},\n",
       " {'id': 33001,\n",
       "  'cuisine': 'indian',\n",
       "  'ingredients': ['water',\n",
       "   'oil',\n",
       "   'semolina',\n",
       "   'cardamom',\n",
       "   'Nido Milk Powder',\n",
       "   'sugar',\n",
       "   'teas']}]"
      ]
     },
     "metadata": {},
     "execution_count": 3
    }
   ],
   "metadata": {
    "scrolled": true
   }
  },
  {
   "cell_type": "markdown",
   "source": [
    "# Inspect Labels"
   ],
   "metadata": {}
  },
  {
   "cell_type": "code",
   "execution_count": 4,
   "source": [
    "import collections\n",
    "labels = [el[\"cuisine\"] for el in train_set_top_5]\n",
    "sorted(collections.Counter(labels).items(), key=lambda x: x[1], reverse=True)"
   ],
   "outputs": [
    {
     "output_type": "execute_result",
     "data": {
      "text/plain": [
       "[('italian', 6294),\n",
       " ('mexican', 5133),\n",
       " ('southern_us', 3445),\n",
       " ('indian', 2435),\n",
       " ('chinese', 2110)]"
      ]
     },
     "metadata": {},
     "execution_count": 4
    }
   ],
   "metadata": {}
  },
  {
   "cell_type": "code",
   "execution_count": null,
   "source": [],
   "outputs": [],
   "metadata": {}
  },
  {
   "cell_type": "markdown",
   "source": [
    "# Preprocessing & Feature Engineering"
   ],
   "metadata": {}
  },
  {
   "cell_type": "code",
   "execution_count": 5,
   "source": [
    "# Write your preprocessing and feature engineering code"
   ],
   "outputs": [],
   "metadata": {}
  },
  {
   "cell_type": "markdown",
   "source": [
    "# Training: Choose your poison\n",
    "**Goal: predict the label 'cuisine' from the ingredients.**\n",
    "\n"
   ],
   "metadata": {}
  },
  {
   "cell_type": "code",
   "execution_count": 6,
   "source": [
    "# Create and fit your model on the training data."
   ],
   "outputs": [],
   "metadata": {}
  },
  {
   "cell_type": "markdown",
   "source": [
    "# Evaluation:"
   ],
   "metadata": {}
  },
  {
   "cell_type": "markdown",
   "source": [
    "## Performance Metrics\n"
   ],
   "metadata": {}
  },
  {
   "cell_type": "code",
   "execution_count": 7,
   "source": [
    "# write code to compute your preferred performance metrics on training and test data\n"
   ],
   "outputs": [],
   "metadata": {}
  },
  {
   "cell_type": "markdown",
   "source": [
    "## Confusion Matrix"
   ],
   "metadata": {}
  },
  {
   "cell_type": "code",
   "execution_count": 8,
   "source": [
    "# write code to plot a confusion matrix"
   ],
   "outputs": [],
   "metadata": {}
  },
  {
   "cell_type": "markdown",
   "source": [
    "## ROC Curve"
   ],
   "metadata": {}
  },
  {
   "cell_type": "code",
   "execution_count": 9,
   "source": [
    "# write code to draw a ROC curve per class in your model"
   ],
   "outputs": [],
   "metadata": {}
  }
 ],
 "metadata": {
  "kernelspec": {
   "name": "python3",
   "display_name": "Python 3.8.10 64-bit ('.venv': venv)"
  },
  "language_info": {
   "codemirror_mode": {
    "name": "ipython",
    "version": 3
   },
   "file_extension": ".py",
   "mimetype": "text/x-python",
   "name": "python",
   "nbconvert_exporter": "python",
   "pygments_lexer": "ipython3",
   "version": "3.8.10"
  },
  "interpreter": {
   "hash": "df38acc2a6c4dd932908140766564a9ff0086967b798b8a390bbaba627b3ea38"
  }
 },
 "nbformat": 4,
 "nbformat_minor": 5
}