{
 "cells": [
  {
   "cell_type": "markdown",
   "metadata": {},
   "source": [
    "# Imports"
   ]
  },
  {
   "cell_type": "code",
   "execution_count": 135,
   "metadata": {},
   "outputs": [],
   "source": [
    "import pickle\n",
    "# further imports go here\n",
    "import pandas as pd\n",
    "import seaborn as sns\n",
    "from sklearn.preprocessing import MultiLabelBinarizer\n",
    "import numpy as np\n",
    "import matplotlib.pyplot as plt\n",
    "from sklearn.metrics import classification_report\n",
    "import plotly.express as px\n",
    "from sklearn.decomposition import PCA\n",
    "from sklearn.model_selection import train_test_split\n",
    "from sklearn.preprocessing import StandardScaler\n",
    "from sklearn.neighbors import KNeighborsClassifier\n",
    "from sklearn.model_selection import GridSearchCV\n",
    "from sklearn.metrics import make_scorer\n",
    "from sklearn import metrics\n",
    "from sklearn.linear_model import LogisticRegression\n",
    "from sklearn.metrics import confusion_matrix    \n",
    "from itertools import cycle\n",
    "from sklearn.metrics import roc_curve, auc\n",
    "from sklearn.preprocessing import label_binarize\n",
    "from scipy import interp\n",
    "from sklearn.metrics import roc_auc_score\n",
    "\n",
    "\n"
   ]
  },
  {
   "cell_type": "markdown",
   "metadata": {},
   "source": [
    "# Load Data"
   ]
  },
  {
   "cell_type": "code",
   "execution_count": 136,
   "metadata": {},
   "outputs": [],
   "source": [
    "TRAIN_PATH = './train_set_top_5.pkl'\n",
    "TEST_PATH = './test_set_top_5.pkl'"
   ]
  },
  {
   "cell_type": "code",
   "execution_count": 137,
   "metadata": {},
   "outputs": [],
   "source": [
    "df_train = pd.read_pickle(TRAIN_PATH)\n",
    "df_test = pd.read_pickle(TEST_PATH)"
   ]
  },
  {
   "cell_type": "code",
   "execution_count": 4,
   "metadata": {},
   "outputs": [],
   "source": [
    "with open('train_set_top_5.pkl', 'rb') as f:\n",
    "    train_set_top_5 = pickle.load(f)\n",
    "\n",
    "with open('test_set_top_5.pkl', 'rb') as f:\n",
    "    test_set_top_5 = pickle.load(f)\n",
    "\n"
   ]
  },
  {
   "cell_type": "code",
   "execution_count": 138,
   "metadata": {},
   "outputs": [],
   "source": [
    "df_train = pd.DataFrame.from_dict(df_train)\n",
    "df_test = pd.DataFrame.from_dict(df_test)\n"
   ]
  },
  {
   "cell_type": "markdown",
   "metadata": {},
   "source": [
    "# Inspect Labels"
   ]
  },
  {
   "cell_type": "code",
   "execution_count": 6,
   "metadata": {},
   "outputs": [
    {
     "data": {
      "text/plain": [
       "[('italian', 6294),\n",
       " ('mexican', 5133),\n",
       " ('southern_us', 3445),\n",
       " ('indian', 2435),\n",
       " ('chinese', 2110)]"
      ]
     },
     "execution_count": 6,
     "metadata": {},
     "output_type": "execute_result"
    }
   ],
   "source": [
    "import collections\n",
    "labels = [el[\"cuisine\"] for el in train_set_top_5]\n",
    "sorted(collections.Counter(labels).items(), key=lambda x: x[1], reverse=True)"
   ]
  },
  {
   "cell_type": "code",
   "execution_count": 7,
   "metadata": {},
   "outputs": [
    {
     "data": {
      "text/html": [
       "<div>\n",
       "<style scoped>\n",
       "    .dataframe tbody tr th:only-of-type {\n",
       "        vertical-align: middle;\n",
       "    }\n",
       "\n",
       "    .dataframe tbody tr th {\n",
       "        vertical-align: top;\n",
       "    }\n",
       "\n",
       "    .dataframe thead th {\n",
       "        text-align: right;\n",
       "    }\n",
       "</style>\n",
       "<table border=\"1\" class=\"dataframe\">\n",
       "  <thead>\n",
       "    <tr style=\"text-align: right;\">\n",
       "      <th></th>\n",
       "      <th>id</th>\n",
       "      <th>cuisine</th>\n",
       "      <th>ingredients</th>\n",
       "    </tr>\n",
       "  </thead>\n",
       "  <tbody>\n",
       "    <tr>\n",
       "      <th>0</th>\n",
       "      <td>14215</td>\n",
       "      <td>italian</td>\n",
       "      <td>[bread crumbs, large eggs, all-purpose flour, ...</td>\n",
       "    </tr>\n",
       "    <tr>\n",
       "      <th>1</th>\n",
       "      <td>13633</td>\n",
       "      <td>italian</td>\n",
       "      <td>[black pepper, salt, tomatoes, large eggs, red...</td>\n",
       "    </tr>\n",
       "    <tr>\n",
       "      <th>2</th>\n",
       "      <td>33001</td>\n",
       "      <td>indian</td>\n",
       "      <td>[water, oil, semolina, cardamom, Nido Milk Pow...</td>\n",
       "    </tr>\n",
       "    <tr>\n",
       "      <th>3</th>\n",
       "      <td>14726</td>\n",
       "      <td>southern_us</td>\n",
       "      <td>[parmesan cheese, salt, water, tomato salsa, b...</td>\n",
       "    </tr>\n",
       "    <tr>\n",
       "      <th>4</th>\n",
       "      <td>22902</td>\n",
       "      <td>mexican</td>\n",
       "      <td>[vegetable oil, water, long-grain rice, salt, ...</td>\n",
       "    </tr>\n",
       "    <tr>\n",
       "      <th>...</th>\n",
       "      <td>...</td>\n",
       "      <td>...</td>\n",
       "      <td>...</td>\n",
       "    </tr>\n",
       "    <tr>\n",
       "      <th>19412</th>\n",
       "      <td>20004</td>\n",
       "      <td>mexican</td>\n",
       "      <td>[plain yogurt, Mexican cheese blend, dried dil...</td>\n",
       "    </tr>\n",
       "    <tr>\n",
       "      <th>19413</th>\n",
       "      <td>36416</td>\n",
       "      <td>southern_us</td>\n",
       "      <td>[eggs, Mexican cheese blend, bacon, milk, jala...</td>\n",
       "    </tr>\n",
       "    <tr>\n",
       "      <th>19414</th>\n",
       "      <td>2054</td>\n",
       "      <td>mexican</td>\n",
       "      <td>[reduced fat monterey jack cheese, flour torti...</td>\n",
       "    </tr>\n",
       "    <tr>\n",
       "      <th>19415</th>\n",
       "      <td>22887</td>\n",
       "      <td>italian</td>\n",
       "      <td>[grated parmesan cheese, sausages, dried orega...</td>\n",
       "    </tr>\n",
       "    <tr>\n",
       "      <th>19416</th>\n",
       "      <td>36467</td>\n",
       "      <td>chinese</td>\n",
       "      <td>[water, garlic, chicken stock, Shaoxing wine, ...</td>\n",
       "    </tr>\n",
       "  </tbody>\n",
       "</table>\n",
       "<p>19417 rows × 3 columns</p>\n",
       "</div>"
      ],
      "text/plain": [
       "          id      cuisine                                        ingredients\n",
       "0      14215      italian  [bread crumbs, large eggs, all-purpose flour, ...\n",
       "1      13633      italian  [black pepper, salt, tomatoes, large eggs, red...\n",
       "2      33001       indian  [water, oil, semolina, cardamom, Nido Milk Pow...\n",
       "3      14726  southern_us  [parmesan cheese, salt, water, tomato salsa, b...\n",
       "4      22902      mexican  [vegetable oil, water, long-grain rice, salt, ...\n",
       "...      ...          ...                                                ...\n",
       "19412  20004      mexican  [plain yogurt, Mexican cheese blend, dried dil...\n",
       "19413  36416  southern_us  [eggs, Mexican cheese blend, bacon, milk, jala...\n",
       "19414   2054      mexican  [reduced fat monterey jack cheese, flour torti...\n",
       "19415  22887      italian  [grated parmesan cheese, sausages, dried orega...\n",
       "19416  36467      chinese  [water, garlic, chicken stock, Shaoxing wine, ...\n",
       "\n",
       "[19417 rows x 3 columns]"
      ]
     },
     "execution_count": 7,
     "metadata": {},
     "output_type": "execute_result"
    }
   ],
   "source": [
    "df_train"
   ]
  },
  {
   "cell_type": "code",
   "execution_count": 139,
   "metadata": {},
   "outputs": [],
   "source": [
    "# all unique ingredients\n",
    "\n",
    "def get_ingredients(series):\n",
    "    return pd.Series([x for _list in series for x in _list])\n",
    "\n"
   ]
  },
  {
   "cell_type": "code",
   "execution_count": 140,
   "metadata": {},
   "outputs": [
    {
     "data": {
      "text/plain": [
       "salt                     9022\n",
       "olive oil                4120\n",
       "onions                   3800\n",
       "garlic                   3626\n",
       "water                    3348\n",
       "                         ... \n",
       "nut meal                    1\n",
       "salted roasted pecans       1\n",
       "braising beef               1\n",
       "marshmallow vodka           1\n",
       "green apples                1\n",
       "Length: 5058, dtype: int64"
      ]
     },
     "execution_count": 140,
     "metadata": {},
     "output_type": "execute_result"
    }
   ],
   "source": [
    "get_ingredients(df_train['ingredients']).value_counts()"
   ]
  },
  {
   "cell_type": "code",
   "execution_count": 141,
   "metadata": {},
   "outputs": [
    {
     "data": {
      "application/vnd.plotly.v1+json": {
       "config": {
        "plotlyServerURL": "https://plot.ly"
       },
       "data": [
        {
         "alignmentgroup": "True",
         "hovertemplate": "variable=0<br>index=%{x}<br>value=%{y}<extra></extra>",
         "legendgroup": "0",
         "marker": {
          "color": "#636efa",
          "pattern": {
           "shape": ""
          }
         },
         "name": "0",
         "offsetgroup": "0",
         "orientation": "v",
         "showlegend": true,
         "textposition": "auto",
         "type": "bar",
         "x": [
          "salt",
          "olive oil",
          "onions",
          "garlic",
          "water",
          "garlic cloves",
          "sugar",
          "butter",
          "ground black pepper",
          "all-purpose flour",
          "pepper",
          "vegetable oil",
          "ground cumin",
          "tomatoes",
          "kosher salt",
          "eggs",
          "chili powder",
          "extra-virgin olive oil",
          "large eggs",
          "grated parmesan cheese",
          "green onions",
          "black pepper",
          "soy sauce",
          "unsalted butter",
          "jalapeno chilies",
          "milk",
          "chopped cilantro fresh",
          "sour cream",
          "purple onion",
          "oil",
          "corn starch",
          "dried oregano",
          "diced tomatoes",
          "baking powder",
          "carrots",
          "garlic powder",
          "red bell pepper",
          "avocado",
          "chicken broth",
          "ginger",
          "cooking spray",
          "sesame oil",
          "salsa",
          "minced garlic",
          "cayenne pepper",
          "scallions",
          "corn tortillas",
          "garam masala",
          "lime",
          "fresh ginger",
          "flour tortillas",
          "fresh basil",
          "fresh parsley",
          "chopped onion",
          "fresh lemon juice",
          "black beans",
          "cumin",
          "lemon juice",
          "cilantro",
          "fresh lime juice",
          "cumin seed",
          "cilantro leaves",
          "ground turmeric",
          "vanilla extract",
          "tomato paste",
          "boneless skinless chicken breasts",
          "flour",
          "dry white wine",
          "canola oil",
          "shredded cheddar cheese",
          "buttermilk",
          "paprika",
          "brown sugar",
          "yellow onion",
          "green chilies",
          "ground beef",
          "honey",
          "tomato sauce",
          "heavy cream",
          "flat leaf parsley",
          "lime juice",
          "white sugar",
          "chicken",
          "ground cinnamon",
          "plum tomatoes",
          "green bell pepper",
          "baking soda",
          "freshly ground pepper",
          "crushed red pepper",
          "chicken stock",
          "shallots",
          "chopped cilantro",
          "lemon",
          "fresh cilantro",
          "zucchini",
          "white onion",
          "chicken breasts",
          "sea salt",
          "parmesan cheese",
          "large garlic cloves",
          "rice vinegar",
          "tumeric",
          "ground coriander",
          "dried basil",
          "shredded mozzarella cheese",
          "curry powder",
          "balsamic vinegar",
          "mozzarella cheese",
          "whole milk",
          "boneless skinless chicken breast halves",
          "potatoes",
          "mayonaise",
          "clove",
          "granulated sugar",
          "bay leaves",
          "red wine vinegar",
          "cream cheese",
          "hot sauce",
          "peanut oil",
          "red pepper flakes",
          "coarse salt",
          "bacon",
          "bay leaf",
          "cinnamon sticks",
          "onion powder",
          "italian seasoning",
          "cheese",
          "fresh basil leaves",
          "celery",
          "shrimp",
          "red chili peppers",
          "cinnamon",
          "crushed red pepper flakes",
          "crushed tomatoes",
          "cheddar cheese",
          "peeled fresh ginger",
          "warm water",
          "worcestershire sauce",
          "capers",
          "ricotta cheese",
          "ground ginger",
          "parmigiano reggiano cheese",
          "hoisin sauce",
          "coriander",
          "oregano",
          "oyster sauce",
          "tomatillos",
          "ground red pepper",
          "dried thyme",
          "fresh rosemary",
          "whipping cream",
          "finely chopped onion",
          "spaghetti",
          "white vinegar",
          "cornmeal",
          "lean ground beef",
          "tortilla chips",
          "shredded Monterey Jack cheese",
          "yellow corn meal",
          "eggplant",
          "ground pork",
          "white pepper",
          "ghee",
          "lime wedges",
          "pasta",
          "fat free less sodium chicken broth",
          "ground nutmeg",
          "mushrooms",
          "sweet potatoes",
          "chile pepper",
          "plain yogurt",
          "enchilada sauce",
          "mustard seeds",
          "rice",
          "cherry tomatoes",
          "sliced green onions",
          "corn",
          "green chile",
          "prosciutto",
          "arborio rice",
          "taco seasoning",
          "sauce",
          "cayenne",
          "fresh oregano",
          "celery ribs",
          "cold water",
          "pinenuts",
          "basmati rice",
          "fresh parmesan cheese",
          "fennel seeds",
          "frozen peas",
          "pasta sauce",
          "cider vinegar",
          "egg whites",
          "large egg whites",
          "red pepper",
          "cracked black pepper",
          "sesame seeds",
          "chopped pecans",
          "ketchup",
          "vegetable broth",
          "refried beans",
          "coriander seeds",
          "garlic paste",
          "cooking oil",
          "cooked chicken",
          "Shaoxing wine",
          "low salt chicken broth",
          "sweet onion",
          "light soy sauce",
          "yoghurt",
          "black peppercorns",
          "corn kernels",
          "marinara sauce",
          "coconut milk",
          "dijon mustard",
          "powdered sugar",
          "dark soy sauce",
          "half & half",
          "peaches",
          "coriander powder",
          "light brown sugar",
          "large egg yolks",
          "serrano chile",
          "chopped tomatoes",
          "low sodium soy sauce",
          "ground pepper",
          "curry leaves",
          "chinese five-spice powder",
          "chopped celery",
          "spinach",
          "low sodium chicken broth",
          "raisins",
          "hot water",
          "white wine",
          "ground cloves",
          "green pepper",
          "chickpeas",
          "monterey jack",
          "egg yolks",
          "part-skim mozzarella cheese",
          "boiling water",
          "active dry yeast",
          "chiles",
          "bell pepper",
          "fresh ginger root",
          "tortillas",
          "garlic salt",
          "lasagna noodles",
          "ground white pepper",
          "large shrimp",
          "bourbon whiskey",
          "smoked paprika",
          "apple cider vinegar",
          "cucumber",
          "grated lemon zest",
          "linguine",
          "red chili powder",
          "basil",
          "chopped fresh thyme",
          "boneless chicken skinless thigh",
          "roma tomatoes",
          "mango",
          "ground cardamom",
          "juice",
          "medium shrimp",
          "confectioners sugar",
          "chopped garlic",
          "chipotles in adobo",
          "fresh coriander",
          "orange juice",
          "cooked rice",
          "beef broth",
          "guacamole",
          "toasted sesame oil",
          "bread crumbs",
          "orange",
          "fresh mushrooms",
          "taco seasoning mix",
          "sliced mushrooms",
          "vegetable oil cooking spray",
          "shredded lettuce",
          "peanuts",
          "cashew nuts",
          "cauliflower",
          "cream",
          "cannellini beans",
          "spring onions",
          "white wine vinegar",
          "basil leaves",
          "unsweetened cocoa powder",
          "baby spinach",
          "dry sherry",
          "yellow bell pepper",
          "chicken thighs",
          "melted butter",
          "chopped parsley",
          "black-eyed peas",
          "frozen corn",
          "frozen chopped spinach",
          "dark brown sugar",
          "dry bread crumbs",
          "fine sea salt",
          "Mexican cheese blend",
          "diced onions",
          "grape tomatoes",
          "grits",
          "vanilla",
          "cabbage",
          "broccoli",
          "fresh mint",
          "broccoli florets",
          "romaine lettuce",
          "pancetta",
          "black olives",
          "hot pepper sauce",
          "asparagus",
          "penne pasta",
          "roasted red peppers",
          "water chestnuts",
          "green beans",
          "leeks",
          "baguette",
          "pinto beans",
          "provolone cheese",
          "shredded sharp cheddar cheese",
          "green peas",
          "dry red wine",
          "shredded cheese",
          "radishes",
          "bacon slices",
          "tomato purée",
          "star anise",
          "fresh spinach",
          "shortening",
          "collard greens",
          "chipotle chile",
          "heavy whipping cream",
          "sliced black olives",
          "sun-dried tomatoes",
          "shiitake",
          "long-grain rice",
          "pork",
          "pecorino romano cheese",
          "flank steak",
          "salt and ground black pepper",
          "fettucine",
          "poblano chiles",
          "parsley",
          "mascarpone",
          "self rising flour",
          "wonton wrappers",
          "lemon zest",
          "mint leaves",
          "szechwan peppercorns",
          "anchovy fillets",
          "cilantro sprigs",
          "polenta",
          "sharp cheddar cheese",
          "arugula",
          "chopped fresh chives",
          "chopped fresh mint",
          "chopped green bell pepper",
          "pork tenderloin",
          "ancho chile pepper",
          "grated nutmeg",
          "cotija",
          "chili",
          "italian sausage",
          "vegetables",
          "ground turkey",
          "minced ginger",
          "minced onion",
          "queso fresco",
          "goat cheese",
          "hot red pepper flakes",
          "coconut oil",
          "rice wine",
          "salsa verde",
          "dried parsley",
          "long grain white rice",
          "vinegar",
          "chinese rice wine",
          "iceberg lettuce",
          "sweetened condensed milk",
          "evaporated milk",
          "nutmeg",
          "jack cheese",
          "stewed tomatoes",
          "greek yogurt",
          "lemon wedge",
          "lettuce",
          "tequila",
          "lard",
          "noodles",
          "coconut",
          "reduced sodium chicken broth",
          "pesto",
          "dried rosemary",
          "margarine",
          "ham",
          "pizza doughs",
          "Sriracha",
          "bread flour",
          "brown rice",
          "marsala wine",
          "red wine",
          "cardamom pods",
          "peas",
          "fennel bulb",
          "beansprouts",
          "thyme",
          "fresh thyme",
          "non-fat sour cream",
          "bread",
          "fresh orange juice",
          "light corn syrup",
          "green cabbage",
          "all purpose unbleached flour",
          "fresh tomatoes",
          "part-skim ricotta cheese",
          "frozen corn kernels",
          "poblano peppers",
          "barbecue sauce",
          "ground allspice",
          "pecans",
          "sage leaves",
          "pure vanilla extract",
          "cake flour",
          "whole wheat flour",
          "Mexican oregano",
          "black mustard seeds",
          "kidney beans",
          "golden raisins",
          "artichoke hearts",
          "bananas",
          "butternut squash",
          "vegetable shortening",
          "chicken breast halves",
          "diced green chilies",
          "okra",
          "dry mustard",
          "whole kernel corn, drain",
          "ginger paste",
          "whole peeled tomatoes",
          "green tomatoes",
          "Italian bread",
          "beef",
          "paneer",
          "vegetable stock",
          "fontina cheese",
          "russet potatoes",
          "1% low-fat milk",
          "strawberries",
          "white rice",
          "seasoning salt",
          "chopped fresh sage",
          "bread crumb fresh",
          "snow peas",
          "fresh mozzarella",
          "kale",
          "grated lemon peel",
          "dark sesame oil",
          "beer",
          "almonds",
          "penne",
          "romano cheese",
          "sliced almonds",
          "feta cheese crumbles",
          "pitted kalamata olives",
          "ricotta",
          "red lentils",
          "freshly grated parmesan",
          "cremini mushrooms",
          "cream cheese, soften",
          "almond extract",
          "reduced-fat sour cream",
          "napa cabbage",
          "boneless chicken breast",
          "Italian parsley leaves",
          "dried porcini mushrooms",
          "red potato",
          "bow-tie pasta",
          "saffron",
          "fat free milk",
          "masa harina",
          "sausage casings",
          "corn oil",
          "panko breadcrumbs",
          "slivered almonds",
          "seasoned bread crumbs",
          "firm tofu",
          "chives",
          "Tabasco Pepper Sauce",
          "yukon gold potatoes",
          "seeds",
          "cardamom",
          "serrano peppers",
          "red cabbage",
          "toasted sesame seeds",
          "adobo sauce",
          "vidalia onion",
          "spices",
          "quinoa",
          "chile powder",
          "asiago",
          "cooked chicken breasts",
          "quickcooking grits",
          "baking potatoes",
          "chili sauce",
          "pecan halves",
          "pork shoulder",
          "dried red chile peppers",
          "cream of chicken soup",
          "green cardamom",
          "chili flakes",
          "sausages",
          "orange zest",
          "pizza sauce",
          "fresh thyme leaves",
          "chillies",
          "whole wheat tortillas",
          "grated orange",
          "white cornmeal",
          "pepper jack",
          "ice cubes",
          "seasoning",
          "lime zest",
          "french bread",
          "dry yeast",
          "bamboo shoots",
          "swiss chard",
          "corn husks",
          "chopped walnuts",
          "sweet italian sausage",
          "ginger root",
          "dough",
          "pimentos",
          "ripe olives",
          "baby spinach leaves",
          "cream style corn",
          "cajun seasoning",
          "amchur",
          "rosemary",
          "meat",
          "mint sprigs",
          "jicama",
          "garbanzo beans",
          "ground cayenne pepper",
          "yellow squash",
          "green olives",
          "chili oil",
          "hominy",
          "pico de gallo",
          "rice flour",
          "button mushrooms",
          "asafoetida",
          "angel hair",
          "shredded cabbage",
          "frozen whole kernel corn",
          "ancho powder",
          "chees fresh mozzarella",
          "fish sauce",
          "bittersweet chocolate",
          "curds",
          "semisweet chocolate",
          "olives",
          "saffron threads",
          "canned black beans",
          "reduced sodium soy sauce",
          "urad dal",
          "fresh curry leaves",
          "green cardamom pods",
          "pineapple",
          "elbow macaroni",
          "kalamata",
          "cornflour",
          "fenugreek seeds",
          "cottage cheese",
          "orange bell pepper",
          "ranch dressing",
          "garlic chili sauce",
          "taco sauce",
          "cooked white rice",
          "chipotle peppers",
          "lettuce leaves",
          "rosemary sprigs",
          "chunky salsa",
          "white hominy",
          "unflavored gelatin",
          "masala",
          "shredded carrots",
          "ice water",
          "chili pepper",
          "apples",
          "greens",
          "red enchilada sauce",
          "white bread",
          "Mexican cheese",
          "rigatoni",
          "taco shells",
          "pork sausages",
          "tomatoes with juice",
          "crushed garlic",
          "thyme sprigs",
          "canned low sodium chicken broth",
          "chicken wings",
          "hazelnuts",
          "feta cheese",
          "peppercorns",
          "mustard",
          "vanilla beans",
          "sea scallops",
          "beans",
          "greek style plain yogurt",
          "molasses",
          "italian salad dressing",
          "whipped cream",
          "bok choy",
          "brandy",
          "old bay seasoning",
          "grated coconut",
          "chuck roast",
          "chopped green chilies",
          "picante sauce",
          "ice",
          "granny smith apples",
          "red food coloring",
          "catfish fillets",
          "lump crab meat",
          "cheese tortellini",
          "firmly packed brown sugar",
          "fresh tarragon",
          "mace",
          "mint",
          "maple syrup",
          "grated jack cheese",
          "chicken bouillon",
          "semi-sweet chocolate morsels",
          "sherry",
          "brown mustard seeds",
          "fusilli",
          "cauliflower florets",
          "fenugreek leaves",
          "vodka",
          "orzo",
          "sugar pea",
          "bacon drippings",
          "poultry seasoning",
          "canned tomatoes",
          "white beans",
          "refrigerated piecrusts",
          "parmigiano-reggiano cheese",
          "rotisserie chicken",
          "boneless pork shoulder",
          "curry paste",
          "light coconut milk",
          "rotini",
          "fresh chives",
          "creole seasoning",
          "fresh parsley leaves",
          "extra firm tofu",
          "sliced carrots",
          "blackberries",
          "cream of tartar",
          "egg substitute",
          "chickpea flour",
          "whole milk ricotta cheese",
          "whole cloves",
          "walnuts",
          "boiling potatoes",
          "table salt",
          "biscuits",
          "skirt steak",
          "broccoli rabe",
          "egg noodles",
          "beef stock",
          "serrano chilies",
          "guajillo chiles",
          "lentils",
          "chicken pieces",
          "peeled tomatoes",
          "jasmine rice",
          "sunflower oil",
          "parsley sprigs",
          "sweet corn",
          "anchovy paste",
          "plain flour",
          "fat",
          "pepperoni",
          "corn flour",
          "diced celery",
          "pecorino cheese",
          "marjoram",
          "ground chicken",
          "rolls",
          "gingerroot",
          "mango chutney",
          "curry",
          "skim milk"
         ],
         "xaxis": "x",
         "y": [
          9022,
          4120,
          3800,
          3626,
          3348,
          2960,
          2656,
          2400,
          2288,
          2193,
          2179,
          2154,
          1692,
          1692,
          1658,
          1540,
          1456,
          1387,
          1369,
          1359,
          1313,
          1249,
          1172,
          1171,
          1131,
          1063,
          1023,
          1010,
          996,
          996,
          958,
          950,
          935,
          934,
          914,
          862,
          862,
          859,
          844,
          823,
          766,
          746,
          744,
          737,
          726,
          722,
          722,
          695,
          694,
          692,
          688,
          687,
          677,
          674,
          670,
          659,
          658,
          656,
          652,
          650,
          635,
          617,
          616,
          615,
          610,
          595,
          594,
          588,
          583,
          582,
          576,
          571,
          567,
          565,
          563,
          556,
          555,
          552,
          535,
          530,
          518,
          518,
          506,
          502,
          496,
          490,
          483,
          479,
          470,
          467,
          461,
          460,
          457,
          448,
          445,
          435,
          432,
          422,
          419,
          412,
          407,
          405,
          404,
          374,
          366,
          359,
          356,
          353,
          352,
          350,
          348,
          342,
          341,
          340,
          335,
          334,
          333,
          331,
          328,
          328,
          327,
          324,
          321,
          316,
          311,
          308,
          303,
          299,
          299,
          299,
          293,
          292,
          286,
          283,
          279,
          277,
          275,
          271,
          271,
          267,
          263,
          262,
          261,
          259,
          258,
          254,
          252,
          252,
          252,
          251,
          251,
          249,
          247,
          245,
          245,
          243,
          241,
          240,
          236,
          235,
          235,
          235,
          235,
          234,
          233,
          231,
          231,
          231,
          230,
          228,
          227,
          226,
          223,
          222,
          220,
          220,
          220,
          218,
          217,
          217,
          216,
          215,
          215,
          214,
          214,
          214,
          212,
          211,
          208,
          208,
          208,
          204,
          203,
          203,
          203,
          203,
          203,
          202,
          199,
          199,
          198,
          195,
          195,
          195,
          190,
          188,
          188,
          187,
          185,
          185,
          184,
          183,
          183,
          183,
          183,
          182,
          181,
          181,
          181,
          180,
          180,
          180,
          178,
          178,
          178,
          177,
          176,
          174,
          173,
          173,
          172,
          172,
          171,
          170,
          169,
          169,
          168,
          168,
          168,
          165,
          165,
          165,
          164,
          164,
          163,
          163,
          162,
          161,
          160,
          158,
          158,
          157,
          156,
          156,
          155,
          155,
          154,
          152,
          152,
          152,
          151,
          150,
          148,
          148,
          148,
          147,
          147,
          146,
          145,
          145,
          144,
          144,
          143,
          143,
          143,
          142,
          142,
          142,
          141,
          141,
          139,
          139,
          139,
          138,
          138,
          138,
          137,
          137,
          137,
          136,
          135,
          134,
          134,
          133,
          133,
          132,
          132,
          132,
          132,
          132,
          131,
          131,
          131,
          131,
          131,
          130,
          130,
          130,
          128,
          128,
          128,
          128,
          128,
          127,
          127,
          126,
          125,
          125,
          125,
          124,
          124,
          124,
          124,
          124,
          123,
          123,
          122,
          122,
          121,
          121,
          120,
          120,
          120,
          119,
          118,
          118,
          117,
          117,
          117,
          116,
          116,
          115,
          114,
          114,
          114,
          113,
          113,
          112,
          112,
          111,
          111,
          111,
          111,
          111,
          110,
          110,
          109,
          109,
          109,
          108,
          107,
          107,
          107,
          107,
          107,
          107,
          106,
          106,
          105,
          105,
          105,
          105,
          104,
          104,
          103,
          103,
          102,
          102,
          102,
          102,
          102,
          101,
          101,
          101,
          101,
          101,
          100,
          99,
          99,
          99,
          98,
          98,
          98,
          98,
          97,
          96,
          96,
          96,
          95,
          95,
          94,
          93,
          93,
          92,
          92,
          92,
          91,
          91,
          91,
          90,
          90,
          90,
          90,
          89,
          89,
          89,
          89,
          89,
          89,
          88,
          88,
          88,
          87,
          87,
          87,
          87,
          87,
          86,
          86,
          86,
          85,
          85,
          84,
          84,
          84,
          83,
          83,
          82,
          82,
          82,
          82,
          82,
          81,
          81,
          81,
          81,
          81,
          80,
          80,
          80,
          80,
          80,
          80,
          79,
          79,
          79,
          79,
          79,
          79,
          79,
          79,
          78,
          78,
          78,
          78,
          78,
          78,
          77,
          76,
          76,
          76,
          75,
          75,
          74,
          74,
          74,
          74,
          74,
          73,
          73,
          73,
          72,
          72,
          72,
          72,
          72,
          71,
          71,
          71,
          70,
          70,
          70,
          69,
          69,
          69,
          69,
          69,
          69,
          68,
          68,
          68,
          68,
          68,
          68,
          67,
          67,
          67,
          66,
          66,
          66,
          66,
          66,
          66,
          65,
          65,
          65,
          64,
          64,
          64,
          64,
          64,
          64,
          63,
          63,
          63,
          63,
          63,
          63,
          63,
          63,
          62,
          62,
          62,
          62,
          62,
          62,
          62,
          62,
          61,
          61,
          61,
          61,
          60,
          60,
          60,
          60,
          60,
          59,
          59,
          59,
          59,
          59,
          58,
          58,
          58,
          58,
          58,
          58,
          57,
          57,
          57,
          57,
          57,
          57,
          57,
          56,
          56,
          56,
          56,
          56,
          56,
          56,
          56,
          55,
          55,
          55,
          55,
          55,
          55,
          55,
          55,
          54,
          54,
          54,
          54,
          54,
          54,
          54,
          54,
          54,
          54,
          53,
          53,
          53,
          52,
          52,
          52,
          52,
          52,
          52,
          51,
          51,
          51,
          50,
          50,
          50,
          50,
          49,
          49,
          49,
          49,
          49,
          48,
          48,
          48,
          48,
          48,
          48,
          48,
          48,
          48,
          48,
          47,
          47,
          47,
          47,
          47,
          47,
          47,
          47,
          46,
          46,
          46,
          46,
          46,
          46,
          45,
          45,
          45,
          45,
          45,
          45,
          45,
          45,
          44,
          44,
          44,
          44,
          44,
          44,
          44,
          44,
          43,
          43,
          43,
          43,
          43,
          43,
          42,
          42,
          42,
          42,
          42,
          42,
          42,
          42,
          42,
          42,
          42,
          42,
          42,
          42,
          42,
          42,
          42,
          42,
          41,
          41,
          41,
          41,
          41,
          41,
          41,
          41,
          41,
          41,
          41,
          41,
          41,
          41,
          41,
          41,
          41,
          41,
          40,
          40,
          40,
          40,
          40,
          40
         ],
         "yaxis": "y"
        }
       ],
       "layout": {
        "barmode": "relative",
        "legend": {
         "title": {
          "text": "variable"
         },
         "tracegroupgap": 0
        },
        "margin": {
         "t": 60
        },
        "template": {
         "data": {
          "bar": [
           {
            "error_x": {
             "color": "#2a3f5f"
            },
            "error_y": {
             "color": "#2a3f5f"
            },
            "marker": {
             "line": {
              "color": "#E5ECF6",
              "width": 0.5
             },
             "pattern": {
              "fillmode": "overlay",
              "size": 10,
              "solidity": 0.2
             }
            },
            "type": "bar"
           }
          ],
          "barpolar": [
           {
            "marker": {
             "line": {
              "color": "#E5ECF6",
              "width": 0.5
             },
             "pattern": {
              "fillmode": "overlay",
              "size": 10,
              "solidity": 0.2
             }
            },
            "type": "barpolar"
           }
          ],
          "carpet": [
           {
            "aaxis": {
             "endlinecolor": "#2a3f5f",
             "gridcolor": "white",
             "linecolor": "white",
             "minorgridcolor": "white",
             "startlinecolor": "#2a3f5f"
            },
            "baxis": {
             "endlinecolor": "#2a3f5f",
             "gridcolor": "white",
             "linecolor": "white",
             "minorgridcolor": "white",
             "startlinecolor": "#2a3f5f"
            },
            "type": "carpet"
           }
          ],
          "choropleth": [
           {
            "colorbar": {
             "outlinewidth": 0,
             "ticks": ""
            },
            "type": "choropleth"
           }
          ],
          "contour": [
           {
            "colorbar": {
             "outlinewidth": 0,
             "ticks": ""
            },
            "colorscale": [
             [
              0,
              "#0d0887"
             ],
             [
              0.1111111111111111,
              "#46039f"
             ],
             [
              0.2222222222222222,
              "#7201a8"
             ],
             [
              0.3333333333333333,
              "#9c179e"
             ],
             [
              0.4444444444444444,
              "#bd3786"
             ],
             [
              0.5555555555555556,
              "#d8576b"
             ],
             [
              0.6666666666666666,
              "#ed7953"
             ],
             [
              0.7777777777777778,
              "#fb9f3a"
             ],
             [
              0.8888888888888888,
              "#fdca26"
             ],
             [
              1,
              "#f0f921"
             ]
            ],
            "type": "contour"
           }
          ],
          "contourcarpet": [
           {
            "colorbar": {
             "outlinewidth": 0,
             "ticks": ""
            },
            "type": "contourcarpet"
           }
          ],
          "heatmap": [
           {
            "colorbar": {
             "outlinewidth": 0,
             "ticks": ""
            },
            "colorscale": [
             [
              0,
              "#0d0887"
             ],
             [
              0.1111111111111111,
              "#46039f"
             ],
             [
              0.2222222222222222,
              "#7201a8"
             ],
             [
              0.3333333333333333,
              "#9c179e"
             ],
             [
              0.4444444444444444,
              "#bd3786"
             ],
             [
              0.5555555555555556,
              "#d8576b"
             ],
             [
              0.6666666666666666,
              "#ed7953"
             ],
             [
              0.7777777777777778,
              "#fb9f3a"
             ],
             [
              0.8888888888888888,
              "#fdca26"
             ],
             [
              1,
              "#f0f921"
             ]
            ],
            "type": "heatmap"
           }
          ],
          "heatmapgl": [
           {
            "colorbar": {
             "outlinewidth": 0,
             "ticks": ""
            },
            "colorscale": [
             [
              0,
              "#0d0887"
             ],
             [
              0.1111111111111111,
              "#46039f"
             ],
             [
              0.2222222222222222,
              "#7201a8"
             ],
             [
              0.3333333333333333,
              "#9c179e"
             ],
             [
              0.4444444444444444,
              "#bd3786"
             ],
             [
              0.5555555555555556,
              "#d8576b"
             ],
             [
              0.6666666666666666,
              "#ed7953"
             ],
             [
              0.7777777777777778,
              "#fb9f3a"
             ],
             [
              0.8888888888888888,
              "#fdca26"
             ],
             [
              1,
              "#f0f921"
             ]
            ],
            "type": "heatmapgl"
           }
          ],
          "histogram": [
           {
            "marker": {
             "pattern": {
              "fillmode": "overlay",
              "size": 10,
              "solidity": 0.2
             }
            },
            "type": "histogram"
           }
          ],
          "histogram2d": [
           {
            "colorbar": {
             "outlinewidth": 0,
             "ticks": ""
            },
            "colorscale": [
             [
              0,
              "#0d0887"
             ],
             [
              0.1111111111111111,
              "#46039f"
             ],
             [
              0.2222222222222222,
              "#7201a8"
             ],
             [
              0.3333333333333333,
              "#9c179e"
             ],
             [
              0.4444444444444444,
              "#bd3786"
             ],
             [
              0.5555555555555556,
              "#d8576b"
             ],
             [
              0.6666666666666666,
              "#ed7953"
             ],
             [
              0.7777777777777778,
              "#fb9f3a"
             ],
             [
              0.8888888888888888,
              "#fdca26"
             ],
             [
              1,
              "#f0f921"
             ]
            ],
            "type": "histogram2d"
           }
          ],
          "histogram2dcontour": [
           {
            "colorbar": {
             "outlinewidth": 0,
             "ticks": ""
            },
            "colorscale": [
             [
              0,
              "#0d0887"
             ],
             [
              0.1111111111111111,
              "#46039f"
             ],
             [
              0.2222222222222222,
              "#7201a8"
             ],
             [
              0.3333333333333333,
              "#9c179e"
             ],
             [
              0.4444444444444444,
              "#bd3786"
             ],
             [
              0.5555555555555556,
              "#d8576b"
             ],
             [
              0.6666666666666666,
              "#ed7953"
             ],
             [
              0.7777777777777778,
              "#fb9f3a"
             ],
             [
              0.8888888888888888,
              "#fdca26"
             ],
             [
              1,
              "#f0f921"
             ]
            ],
            "type": "histogram2dcontour"
           }
          ],
          "mesh3d": [
           {
            "colorbar": {
             "outlinewidth": 0,
             "ticks": ""
            },
            "type": "mesh3d"
           }
          ],
          "parcoords": [
           {
            "line": {
             "colorbar": {
              "outlinewidth": 0,
              "ticks": ""
             }
            },
            "type": "parcoords"
           }
          ],
          "pie": [
           {
            "automargin": true,
            "type": "pie"
           }
          ],
          "scatter": [
           {
            "marker": {
             "colorbar": {
              "outlinewidth": 0,
              "ticks": ""
             }
            },
            "type": "scatter"
           }
          ],
          "scatter3d": [
           {
            "line": {
             "colorbar": {
              "outlinewidth": 0,
              "ticks": ""
             }
            },
            "marker": {
             "colorbar": {
              "outlinewidth": 0,
              "ticks": ""
             }
            },
            "type": "scatter3d"
           }
          ],
          "scattercarpet": [
           {
            "marker": {
             "colorbar": {
              "outlinewidth": 0,
              "ticks": ""
             }
            },
            "type": "scattercarpet"
           }
          ],
          "scattergeo": [
           {
            "marker": {
             "colorbar": {
              "outlinewidth": 0,
              "ticks": ""
             }
            },
            "type": "scattergeo"
           }
          ],
          "scattergl": [
           {
            "marker": {
             "colorbar": {
              "outlinewidth": 0,
              "ticks": ""
             }
            },
            "type": "scattergl"
           }
          ],
          "scattermapbox": [
           {
            "marker": {
             "colorbar": {
              "outlinewidth": 0,
              "ticks": ""
             }
            },
            "type": "scattermapbox"
           }
          ],
          "scatterpolar": [
           {
            "marker": {
             "colorbar": {
              "outlinewidth": 0,
              "ticks": ""
             }
            },
            "type": "scatterpolar"
           }
          ],
          "scatterpolargl": [
           {
            "marker": {
             "colorbar": {
              "outlinewidth": 0,
              "ticks": ""
             }
            },
            "type": "scatterpolargl"
           }
          ],
          "scatterternary": [
           {
            "marker": {
             "colorbar": {
              "outlinewidth": 0,
              "ticks": ""
             }
            },
            "type": "scatterternary"
           }
          ],
          "surface": [
           {
            "colorbar": {
             "outlinewidth": 0,
             "ticks": ""
            },
            "colorscale": [
             [
              0,
              "#0d0887"
             ],
             [
              0.1111111111111111,
              "#46039f"
             ],
             [
              0.2222222222222222,
              "#7201a8"
             ],
             [
              0.3333333333333333,
              "#9c179e"
             ],
             [
              0.4444444444444444,
              "#bd3786"
             ],
             [
              0.5555555555555556,
              "#d8576b"
             ],
             [
              0.6666666666666666,
              "#ed7953"
             ],
             [
              0.7777777777777778,
              "#fb9f3a"
             ],
             [
              0.8888888888888888,
              "#fdca26"
             ],
             [
              1,
              "#f0f921"
             ]
            ],
            "type": "surface"
           }
          ],
          "table": [
           {
            "cells": {
             "fill": {
              "color": "#EBF0F8"
             },
             "line": {
              "color": "white"
             }
            },
            "header": {
             "fill": {
              "color": "#C8D4E3"
             },
             "line": {
              "color": "white"
             }
            },
            "type": "table"
           }
          ]
         },
         "layout": {
          "annotationdefaults": {
           "arrowcolor": "#2a3f5f",
           "arrowhead": 0,
           "arrowwidth": 1
          },
          "autotypenumbers": "strict",
          "coloraxis": {
           "colorbar": {
            "outlinewidth": 0,
            "ticks": ""
           }
          },
          "colorscale": {
           "diverging": [
            [
             0,
             "#8e0152"
            ],
            [
             0.1,
             "#c51b7d"
            ],
            [
             0.2,
             "#de77ae"
            ],
            [
             0.3,
             "#f1b6da"
            ],
            [
             0.4,
             "#fde0ef"
            ],
            [
             0.5,
             "#f7f7f7"
            ],
            [
             0.6,
             "#e6f5d0"
            ],
            [
             0.7,
             "#b8e186"
            ],
            [
             0.8,
             "#7fbc41"
            ],
            [
             0.9,
             "#4d9221"
            ],
            [
             1,
             "#276419"
            ]
           ],
           "sequential": [
            [
             0,
             "#0d0887"
            ],
            [
             0.1111111111111111,
             "#46039f"
            ],
            [
             0.2222222222222222,
             "#7201a8"
            ],
            [
             0.3333333333333333,
             "#9c179e"
            ],
            [
             0.4444444444444444,
             "#bd3786"
            ],
            [
             0.5555555555555556,
             "#d8576b"
            ],
            [
             0.6666666666666666,
             "#ed7953"
            ],
            [
             0.7777777777777778,
             "#fb9f3a"
            ],
            [
             0.8888888888888888,
             "#fdca26"
            ],
            [
             1,
             "#f0f921"
            ]
           ],
           "sequentialminus": [
            [
             0,
             "#0d0887"
            ],
            [
             0.1111111111111111,
             "#46039f"
            ],
            [
             0.2222222222222222,
             "#7201a8"
            ],
            [
             0.3333333333333333,
             "#9c179e"
            ],
            [
             0.4444444444444444,
             "#bd3786"
            ],
            [
             0.5555555555555556,
             "#d8576b"
            ],
            [
             0.6666666666666666,
             "#ed7953"
            ],
            [
             0.7777777777777778,
             "#fb9f3a"
            ],
            [
             0.8888888888888888,
             "#fdca26"
            ],
            [
             1,
             "#f0f921"
            ]
           ]
          },
          "colorway": [
           "#636efa",
           "#EF553B",
           "#00cc96",
           "#ab63fa",
           "#FFA15A",
           "#19d3f3",
           "#FF6692",
           "#B6E880",
           "#FF97FF",
           "#FECB52"
          ],
          "font": {
           "color": "#2a3f5f"
          },
          "geo": {
           "bgcolor": "white",
           "lakecolor": "white",
           "landcolor": "#E5ECF6",
           "showlakes": true,
           "showland": true,
           "subunitcolor": "white"
          },
          "hoverlabel": {
           "align": "left"
          },
          "hovermode": "closest",
          "mapbox": {
           "style": "light"
          },
          "paper_bgcolor": "white",
          "plot_bgcolor": "#E5ECF6",
          "polar": {
           "angularaxis": {
            "gridcolor": "white",
            "linecolor": "white",
            "ticks": ""
           },
           "bgcolor": "#E5ECF6",
           "radialaxis": {
            "gridcolor": "white",
            "linecolor": "white",
            "ticks": ""
           }
          },
          "scene": {
           "xaxis": {
            "backgroundcolor": "#E5ECF6",
            "gridcolor": "white",
            "gridwidth": 2,
            "linecolor": "white",
            "showbackground": true,
            "ticks": "",
            "zerolinecolor": "white"
           },
           "yaxis": {
            "backgroundcolor": "#E5ECF6",
            "gridcolor": "white",
            "gridwidth": 2,
            "linecolor": "white",
            "showbackground": true,
            "ticks": "",
            "zerolinecolor": "white"
           },
           "zaxis": {
            "backgroundcolor": "#E5ECF6",
            "gridcolor": "white",
            "gridwidth": 2,
            "linecolor": "white",
            "showbackground": true,
            "ticks": "",
            "zerolinecolor": "white"
           }
          },
          "shapedefaults": {
           "line": {
            "color": "#2a3f5f"
           }
          },
          "ternary": {
           "aaxis": {
            "gridcolor": "white",
            "linecolor": "white",
            "ticks": ""
           },
           "baxis": {
            "gridcolor": "white",
            "linecolor": "white",
            "ticks": ""
           },
           "bgcolor": "#E5ECF6",
           "caxis": {
            "gridcolor": "white",
            "linecolor": "white",
            "ticks": ""
           }
          },
          "title": {
           "x": 0.05
          },
          "xaxis": {
           "automargin": true,
           "gridcolor": "white",
           "linecolor": "white",
           "ticks": "",
           "title": {
            "standoff": 15
           },
           "zerolinecolor": "white",
           "zerolinewidth": 2
          },
          "yaxis": {
           "automargin": true,
           "gridcolor": "white",
           "linecolor": "white",
           "ticks": "",
           "title": {
            "standoff": 15
           },
           "zerolinecolor": "white",
           "zerolinewidth": 2
          }
         }
        },
        "xaxis": {
         "anchor": "y",
         "domain": [
          0,
          1
         ],
         "title": {
          "text": "index"
         }
        },
        "yaxis": {
         "anchor": "x",
         "domain": [
          0,
          1
         ],
         "title": {
          "text": "value"
         }
        }
       }
      }
     },
     "metadata": {},
     "output_type": "display_data"
    }
   ],
   "source": [
    "#-----------------------------------------------------------------------#\n",
    "#    Chart does not load on github. Run it locally to view the chart    #\n",
    "#-----------------------------------------------------------------------#\n",
    "\n",
    "\n",
    "fig = px.bar(get_ingredients(df_train['ingredients']).value_counts()[0:700])\n",
    "fig.show()\n",
    "\n"
   ]
  },
  {
   "cell_type": "code",
   "execution_count": 11,
   "metadata": {},
   "outputs": [],
   "source": [
    "# This was a manual way to reduce features, PCA performed better \n",
    "\n",
    "# most_relevant = get_ingredients(df_train['ingredients']).value_counts()[:700]"
   ]
  },
  {
   "cell_type": "markdown",
   "metadata": {},
   "source": [
    "We can see that there are a lot of ingredients in this dataset but not all ingredients from the training dataset are in the test dataset."
   ]
  },
  {
   "cell_type": "code",
   "execution_count": 107,
   "metadata": {},
   "outputs": [
    {
     "data": {
      "text/plain": [
       "<AxesSubplot:xlabel='count', ylabel='cuisine'>"
      ]
     },
     "execution_count": 107,
     "metadata": {},
     "output_type": "execute_result"
    },
    {
     "data": {
      "image/png": "[encoded data removed]",
      "text/plain": [
       "<Figure size 432x288 with 1 Axes>"
      ]
     },
     "metadata": {
      "needs_background": "light"
     },
     "output_type": "display_data"
    }
   ],
   "source": [
    "sns.countplot(y=df_train['cuisine'])"
   ]
  },
  {
   "cell_type": "markdown",
   "metadata": {},
   "source": [
    "# Preprocessing & Feature Engineering"
   ]
  },
  {
   "cell_type": "code",
   "execution_count": 13,
   "metadata": {},
   "outputs": [],
   "source": [
    "# Write your preprocessing and feature engineering code"
   ]
  },
  {
   "cell_type": "code",
   "execution_count": 142,
   "metadata": {},
   "outputs": [],
   "source": [
    "y = df_train['cuisine']\n",
    "x = df_train.drop(['cuisine', 'id'],1)"
   ]
  },
  {
   "cell_type": "code",
   "execution_count": 143,
   "metadata": {},
   "outputs": [],
   "source": [
    "# transform to multilabel format\n",
    "mlb = MultiLabelBinarizer()\n",
    "\n",
    "x_trans = x.join(pd.DataFrame(mlb.fit_transform(x.pop('ingredients')),\n",
    "                          columns=mlb.classes_,\n",
    "                          index=x.index))\n"
   ]
  },
  {
   "cell_type": "code",
   "execution_count": 16,
   "metadata": {},
   "outputs": [
    {
     "data": {
      "text/html": [
       "<div>\n",
       "<style scoped>\n",
       "    .dataframe tbody tr th:only-of-type {\n",
       "        vertical-align: middle;\n",
       "    }\n",
       "\n",
       "    .dataframe tbody tr th {\n",
       "        vertical-align: top;\n",
       "    }\n",
       "\n",
       "    .dataframe thead th {\n",
       "        text-align: right;\n",
       "    }\n",
       "</style>\n",
       "<table border=\"1\" class=\"dataframe\">\n",
       "  <thead>\n",
       "    <tr style=\"text-align: right;\">\n",
       "      <th></th>\n",
       "      <th>(    oz.) tomato sauce</th>\n",
       "      <th>(   oz.) tomato paste</th>\n",
       "      <th>(10 oz.) frozen chopped spinach</th>\n",
       "      <th>(10 oz.) frozen chopped spinach, thawed and squeezed dry</th>\n",
       "      <th>(14 oz.) sweetened condensed milk</th>\n",
       "      <th>(14.5 oz.) diced tomatoes</th>\n",
       "      <th>(15 oz.) refried beans</th>\n",
       "      <th>1% low-fat buttermilk</th>\n",
       "      <th>1% low-fat chocolate milk</th>\n",
       "      <th>1% low-fat cottage cheese</th>\n",
       "      <th>...</th>\n",
       "      <th>yuca</th>\n",
       "      <th>yukon gold</th>\n",
       "      <th>yukon gold potatoes</th>\n",
       "      <th>za'atar</th>\n",
       "      <th>zest</th>\n",
       "      <th>zesty italian dressing</th>\n",
       "      <th>zinfandel</th>\n",
       "      <th>ziti</th>\n",
       "      <th>zucchini</th>\n",
       "      <th>zucchini blossoms</th>\n",
       "    </tr>\n",
       "  </thead>\n",
       "  <tbody>\n",
       "    <tr>\n",
       "      <th>0</th>\n",
       "      <td>0</td>\n",
       "      <td>0</td>\n",
       "      <td>0</td>\n",
       "      <td>0</td>\n",
       "      <td>0</td>\n",
       "      <td>0</td>\n",
       "      <td>0</td>\n",
       "      <td>0</td>\n",
       "      <td>0</td>\n",
       "      <td>0</td>\n",
       "      <td>...</td>\n",
       "      <td>0</td>\n",
       "      <td>0</td>\n",
       "      <td>0</td>\n",
       "      <td>0</td>\n",
       "      <td>0</td>\n",
       "      <td>0</td>\n",
       "      <td>0</td>\n",
       "      <td>0</td>\n",
       "      <td>0</td>\n",
       "      <td>0</td>\n",
       "    </tr>\n",
       "    <tr>\n",
       "      <th>1</th>\n",
       "      <td>0</td>\n",
       "      <td>0</td>\n",
       "      <td>0</td>\n",
       "      <td>0</td>\n",
       "      <td>0</td>\n",
       "      <td>0</td>\n",
       "      <td>0</td>\n",
       "      <td>0</td>\n",
       "      <td>0</td>\n",
       "      <td>0</td>\n",
       "      <td>...</td>\n",
       "      <td>0</td>\n",
       "      <td>0</td>\n",
       "      <td>0</td>\n",
       "      <td>0</td>\n",
       "      <td>0</td>\n",
       "      <td>0</td>\n",
       "      <td>0</td>\n",
       "      <td>0</td>\n",
       "      <td>0</td>\n",
       "      <td>0</td>\n",
       "    </tr>\n",
       "    <tr>\n",
       "      <th>2</th>\n",
       "      <td>0</td>\n",
       "      <td>0</td>\n",
       "      <td>0</td>\n",
       "      <td>0</td>\n",
       "      <td>0</td>\n",
       "      <td>0</td>\n",
       "      <td>0</td>\n",
       "      <td>0</td>\n",
       "      <td>0</td>\n",
       "      <td>0</td>\n",
       "      <td>...</td>\n",
       "      <td>0</td>\n",
       "      <td>0</td>\n",
       "      <td>0</td>\n",
       "      <td>0</td>\n",
       "      <td>0</td>\n",
       "      <td>0</td>\n",
       "      <td>0</td>\n",
       "      <td>0</td>\n",
       "      <td>0</td>\n",
       "      <td>0</td>\n",
       "    </tr>\n",
       "    <tr>\n",
       "      <th>3</th>\n",
       "      <td>0</td>\n",
       "      <td>0</td>\n",
       "      <td>0</td>\n",
       "      <td>0</td>\n",
       "      <td>0</td>\n",
       "      <td>0</td>\n",
       "      <td>0</td>\n",
       "      <td>0</td>\n",
       "      <td>0</td>\n",
       "      <td>0</td>\n",
       "      <td>...</td>\n",
       "      <td>0</td>\n",
       "      <td>0</td>\n",
       "      <td>0</td>\n",
       "      <td>0</td>\n",
       "      <td>0</td>\n",
       "      <td>0</td>\n",
       "      <td>0</td>\n",
       "      <td>0</td>\n",
       "      <td>0</td>\n",
       "      <td>0</td>\n",
       "    </tr>\n",
       "    <tr>\n",
       "      <th>4</th>\n",
       "      <td>0</td>\n",
       "      <td>0</td>\n",
       "      <td>0</td>\n",
       "      <td>0</td>\n",
       "      <td>0</td>\n",
       "      <td>0</td>\n",
       "      <td>0</td>\n",
       "      <td>0</td>\n",
       "      <td>0</td>\n",
       "      <td>0</td>\n",
       "      <td>...</td>\n",
       "      <td>0</td>\n",
       "      <td>0</td>\n",
       "      <td>0</td>\n",
       "      <td>0</td>\n",
       "      <td>0</td>\n",
       "      <td>0</td>\n",
       "      <td>0</td>\n",
       "      <td>0</td>\n",
       "      <td>0</td>\n",
       "      <td>0</td>\n",
       "    </tr>\n",
       "    <tr>\n",
       "      <th>...</th>\n",
       "      <td>...</td>\n",
       "      <td>...</td>\n",
       "      <td>...</td>\n",
       "      <td>...</td>\n",
       "      <td>...</td>\n",
       "      <td>...</td>\n",
       "      <td>...</td>\n",
       "      <td>...</td>\n",
       "      <td>...</td>\n",
       "      <td>...</td>\n",
       "      <td>...</td>\n",
       "      <td>...</td>\n",
       "      <td>...</td>\n",
       "      <td>...</td>\n",
       "      <td>...</td>\n",
       "      <td>...</td>\n",
       "      <td>...</td>\n",
       "      <td>...</td>\n",
       "      <td>...</td>\n",
       "      <td>...</td>\n",
       "      <td>...</td>\n",
       "    </tr>\n",
       "    <tr>\n",
       "      <th>19412</th>\n",
       "      <td>0</td>\n",
       "      <td>0</td>\n",
       "      <td>0</td>\n",
       "      <td>0</td>\n",
       "      <td>0</td>\n",
       "      <td>0</td>\n",
       "      <td>0</td>\n",
       "      <td>0</td>\n",
       "      <td>0</td>\n",
       "      <td>0</td>\n",
       "      <td>...</td>\n",
       "      <td>0</td>\n",
       "      <td>0</td>\n",
       "      <td>0</td>\n",
       "      <td>0</td>\n",
       "      <td>0</td>\n",
       "      <td>0</td>\n",
       "      <td>0</td>\n",
       "      <td>0</td>\n",
       "      <td>0</td>\n",
       "      <td>0</td>\n",
       "    </tr>\n",
       "    <tr>\n",
       "      <th>19413</th>\n",
       "      <td>0</td>\n",
       "      <td>0</td>\n",
       "      <td>0</td>\n",
       "      <td>0</td>\n",
       "      <td>0</td>\n",
       "      <td>0</td>\n",
       "      <td>0</td>\n",
       "      <td>0</td>\n",
       "      <td>0</td>\n",
       "      <td>0</td>\n",
       "      <td>...</td>\n",
       "      <td>0</td>\n",
       "      <td>0</td>\n",
       "      <td>0</td>\n",
       "      <td>0</td>\n",
       "      <td>0</td>\n",
       "      <td>0</td>\n",
       "      <td>0</td>\n",
       "      <td>0</td>\n",
       "      <td>0</td>\n",
       "      <td>0</td>\n",
       "    </tr>\n",
       "    <tr>\n",
       "      <th>19414</th>\n",
       "      <td>0</td>\n",
       "      <td>0</td>\n",
       "      <td>0</td>\n",
       "      <td>0</td>\n",
       "      <td>0</td>\n",
       "      <td>0</td>\n",
       "      <td>0</td>\n",
       "      <td>0</td>\n",
       "      <td>0</td>\n",
       "      <td>0</td>\n",
       "      <td>...</td>\n",
       "      <td>0</td>\n",
       "      <td>0</td>\n",
       "      <td>0</td>\n",
       "      <td>0</td>\n",
       "      <td>0</td>\n",
       "      <td>0</td>\n",
       "      <td>0</td>\n",
       "      <td>0</td>\n",
       "      <td>0</td>\n",
       "      <td>0</td>\n",
       "    </tr>\n",
       "    <tr>\n",
       "      <th>19415</th>\n",
       "      <td>0</td>\n",
       "      <td>0</td>\n",
       "      <td>0</td>\n",
       "      <td>0</td>\n",
       "      <td>0</td>\n",
       "      <td>0</td>\n",
       "      <td>0</td>\n",
       "      <td>0</td>\n",
       "      <td>0</td>\n",
       "      <td>0</td>\n",
       "      <td>...</td>\n",
       "      <td>0</td>\n",
       "      <td>0</td>\n",
       "      <td>0</td>\n",
       "      <td>0</td>\n",
       "      <td>0</td>\n",
       "      <td>0</td>\n",
       "      <td>0</td>\n",
       "      <td>0</td>\n",
       "      <td>0</td>\n",
       "      <td>0</td>\n",
       "    </tr>\n",
       "    <tr>\n",
       "      <th>19416</th>\n",
       "      <td>0</td>\n",
       "      <td>0</td>\n",
       "      <td>0</td>\n",
       "      <td>0</td>\n",
       "      <td>0</td>\n",
       "      <td>0</td>\n",
       "      <td>0</td>\n",
       "      <td>0</td>\n",
       "      <td>0</td>\n",
       "      <td>0</td>\n",
       "      <td>...</td>\n",
       "      <td>0</td>\n",
       "      <td>0</td>\n",
       "      <td>0</td>\n",
       "      <td>0</td>\n",
       "      <td>0</td>\n",
       "      <td>0</td>\n",
       "      <td>0</td>\n",
       "      <td>0</td>\n",
       "      <td>0</td>\n",
       "      <td>0</td>\n",
       "    </tr>\n",
       "  </tbody>\n",
       "</table>\n",
       "<p>19417 rows × 5058 columns</p>\n",
       "</div>"
      ],
      "text/plain": [
       "       (    oz.) tomato sauce  (   oz.) tomato paste  \\\n",
       "0                           0                      0   \n",
       "1                           0                      0   \n",
       "2                           0                      0   \n",
       "3                           0                      0   \n",
       "4                           0                      0   \n",
       "...                       ...                    ...   \n",
       "19412                       0                      0   \n",
       "19413                       0                      0   \n",
       "19414                       0                      0   \n",
       "19415                       0                      0   \n",
       "19416                       0                      0   \n",
       "\n",
       "       (10 oz.) frozen chopped spinach  \\\n",
       "0                                    0   \n",
       "1                                    0   \n",
       "2                                    0   \n",
       "3                                    0   \n",
       "4                                    0   \n",
       "...                                ...   \n",
       "19412                                0   \n",
       "19413                                0   \n",
       "19414                                0   \n",
       "19415                                0   \n",
       "19416                                0   \n",
       "\n",
       "       (10 oz.) frozen chopped spinach, thawed and squeezed dry  \\\n",
       "0                                                      0          \n",
       "1                                                      0          \n",
       "2                                                      0          \n",
       "3                                                      0          \n",
       "4                                                      0          \n",
       "...                                                  ...          \n",
       "19412                                                  0          \n",
       "19413                                                  0          \n",
       "19414                                                  0          \n",
       "19415                                                  0          \n",
       "19416                                                  0          \n",
       "\n",
       "       (14 oz.) sweetened condensed milk  (14.5 oz.) diced tomatoes  \\\n",
       "0                                      0                          0   \n",
       "1                                      0                          0   \n",
       "2                                      0                          0   \n",
       "3                                      0                          0   \n",
       "4                                      0                          0   \n",
       "...                                  ...                        ...   \n",
       "19412                                  0                          0   \n",
       "19413                                  0                          0   \n",
       "19414                                  0                          0   \n",
       "19415                                  0                          0   \n",
       "19416                                  0                          0   \n",
       "\n",
       "       (15 oz.) refried beans  1% low-fat buttermilk  \\\n",
       "0                           0                      0   \n",
       "1                           0                      0   \n",
       "2                           0                      0   \n",
       "3                           0                      0   \n",
       "4                           0                      0   \n",
       "...                       ...                    ...   \n",
       "19412                       0                      0   \n",
       "19413                       0                      0   \n",
       "19414                       0                      0   \n",
       "19415                       0                      0   \n",
       "19416                       0                      0   \n",
       "\n",
       "       1% low-fat chocolate milk  1% low-fat cottage cheese  ...  yuca  \\\n",
       "0                              0                          0  ...     0   \n",
       "1                              0                          0  ...     0   \n",
       "2                              0                          0  ...     0   \n",
       "3                              0                          0  ...     0   \n",
       "4                              0                          0  ...     0   \n",
       "...                          ...                        ...  ...   ...   \n",
       "19412                          0                          0  ...     0   \n",
       "19413                          0                          0  ...     0   \n",
       "19414                          0                          0  ...     0   \n",
       "19415                          0                          0  ...     0   \n",
       "19416                          0                          0  ...     0   \n",
       "\n",
       "       yukon gold  yukon gold potatoes  za'atar  zest  zesty italian dressing  \\\n",
       "0               0                    0        0     0                       0   \n",
       "1               0                    0        0     0                       0   \n",
       "2               0                    0        0     0                       0   \n",
       "3               0                    0        0     0                       0   \n",
       "4               0                    0        0     0                       0   \n",
       "...           ...                  ...      ...   ...                     ...   \n",
       "19412           0                    0        0     0                       0   \n",
       "19413           0                    0        0     0                       0   \n",
       "19414           0                    0        0     0                       0   \n",
       "19415           0                    0        0     0                       0   \n",
       "19416           0                    0        0     0                       0   \n",
       "\n",
       "       zinfandel  ziti  zucchini  zucchini blossoms  \n",
       "0              0     0         0                  0  \n",
       "1              0     0         0                  0  \n",
       "2              0     0         0                  0  \n",
       "3              0     0         0                  0  \n",
       "4              0     0         0                  0  \n",
       "...          ...   ...       ...                ...  \n",
       "19412          0     0         0                  0  \n",
       "19413          0     0         0                  0  \n",
       "19414          0     0         0                  0  \n",
       "19415          0     0         0                  0  \n",
       "19416          0     0         0                  0  \n",
       "\n",
       "[19417 rows x 5058 columns]"
      ]
     },
     "execution_count": 16,
     "metadata": {},
     "output_type": "execute_result"
    }
   ],
   "source": [
    "x_trans"
   ]
  },
  {
   "cell_type": "code",
   "execution_count": 144,
   "metadata": {},
   "outputs": [],
   "source": [
    "y_test = df_test['cuisine']\n",
    "x_test = df_test.drop(['cuisine', 'id'],1)"
   ]
  },
  {
   "cell_type": "code",
   "execution_count": 145,
   "metadata": {},
   "outputs": [],
   "source": [
    "# transform to multilabel format\n",
    "mlb = MultiLabelBinarizer()\n",
    "\n",
    "x_trans_test = x_test.join(pd.DataFrame(mlb.fit_transform(x_test.pop('ingredients')),\n",
    "                          columns=mlb.classes_,\n",
    "                          index=x_test.index))"
   ]
  },
  {
   "cell_type": "code",
   "execution_count": 15,
   "metadata": {},
   "outputs": [
    {
     "data": {
      "text/html": [
       "<div>\n",
       "<style scoped>\n",
       "    .dataframe tbody tr th:only-of-type {\n",
       "        vertical-align: middle;\n",
       "    }\n",
       "\n",
       "    .dataframe tbody tr th {\n",
       "        vertical-align: top;\n",
       "    }\n",
       "\n",
       "    .dataframe thead th {\n",
       "        text-align: right;\n",
       "    }\n",
       "</style>\n",
       "<table border=\"1\" class=\"dataframe\">\n",
       "  <thead>\n",
       "    <tr style=\"text-align: right;\">\n",
       "      <th></th>\n",
       "      <th>(    oz.) tomato sauce</th>\n",
       "      <th>(   oz.) tomato paste</th>\n",
       "      <th>(10 oz.) frozen chopped spinach</th>\n",
       "      <th>(14.5 oz.) diced tomatoes</th>\n",
       "      <th>1% low-fat cottage cheese</th>\n",
       "      <th>1% low-fat milk</th>\n",
       "      <th>2% reduced-fat milk</th>\n",
       "      <th>33% less sodium cooked deli ham</th>\n",
       "      <th>40% less sodium taco seasoning</th>\n",
       "      <th>Alfredo sauce</th>\n",
       "      <th>...</th>\n",
       "      <th>yellow summer squash</th>\n",
       "      <th>yellow tomato</th>\n",
       "      <th>yoghurt</th>\n",
       "      <th>yolk</th>\n",
       "      <th>yu choy</th>\n",
       "      <th>yukon gold potatoes</th>\n",
       "      <th>zest</th>\n",
       "      <th>zesty italian dressing</th>\n",
       "      <th>ziti</th>\n",
       "      <th>zucchini</th>\n",
       "    </tr>\n",
       "  </thead>\n",
       "  <tbody>\n",
       "    <tr>\n",
       "      <th>0</th>\n",
       "      <td>0</td>\n",
       "      <td>0</td>\n",
       "      <td>0</td>\n",
       "      <td>0</td>\n",
       "      <td>0</td>\n",
       "      <td>0</td>\n",
       "      <td>0</td>\n",
       "      <td>0</td>\n",
       "      <td>0</td>\n",
       "      <td>0</td>\n",
       "      <td>...</td>\n",
       "      <td>0</td>\n",
       "      <td>0</td>\n",
       "      <td>0</td>\n",
       "      <td>0</td>\n",
       "      <td>0</td>\n",
       "      <td>0</td>\n",
       "      <td>0</td>\n",
       "      <td>0</td>\n",
       "      <td>0</td>\n",
       "      <td>0</td>\n",
       "    </tr>\n",
       "    <tr>\n",
       "      <th>1</th>\n",
       "      <td>0</td>\n",
       "      <td>0</td>\n",
       "      <td>0</td>\n",
       "      <td>0</td>\n",
       "      <td>0</td>\n",
       "      <td>0</td>\n",
       "      <td>0</td>\n",
       "      <td>0</td>\n",
       "      <td>0</td>\n",
       "      <td>0</td>\n",
       "      <td>...</td>\n",
       "      <td>0</td>\n",
       "      <td>0</td>\n",
       "      <td>0</td>\n",
       "      <td>0</td>\n",
       "      <td>0</td>\n",
       "      <td>1</td>\n",
       "      <td>0</td>\n",
       "      <td>0</td>\n",
       "      <td>0</td>\n",
       "      <td>0</td>\n",
       "    </tr>\n",
       "    <tr>\n",
       "      <th>2</th>\n",
       "      <td>0</td>\n",
       "      <td>0</td>\n",
       "      <td>0</td>\n",
       "      <td>0</td>\n",
       "      <td>0</td>\n",
       "      <td>0</td>\n",
       "      <td>0</td>\n",
       "      <td>0</td>\n",
       "      <td>0</td>\n",
       "      <td>0</td>\n",
       "      <td>...</td>\n",
       "      <td>0</td>\n",
       "      <td>0</td>\n",
       "      <td>0</td>\n",
       "      <td>0</td>\n",
       "      <td>0</td>\n",
       "      <td>0</td>\n",
       "      <td>0</td>\n",
       "      <td>0</td>\n",
       "      <td>0</td>\n",
       "      <td>0</td>\n",
       "    </tr>\n",
       "    <tr>\n",
       "      <th>3</th>\n",
       "      <td>0</td>\n",
       "      <td>0</td>\n",
       "      <td>0</td>\n",
       "      <td>0</td>\n",
       "      <td>0</td>\n",
       "      <td>0</td>\n",
       "      <td>0</td>\n",
       "      <td>0</td>\n",
       "      <td>0</td>\n",
       "      <td>0</td>\n",
       "      <td>...</td>\n",
       "      <td>0</td>\n",
       "      <td>0</td>\n",
       "      <td>0</td>\n",
       "      <td>0</td>\n",
       "      <td>0</td>\n",
       "      <td>0</td>\n",
       "      <td>0</td>\n",
       "      <td>0</td>\n",
       "      <td>0</td>\n",
       "      <td>0</td>\n",
       "    </tr>\n",
       "    <tr>\n",
       "      <th>4</th>\n",
       "      <td>0</td>\n",
       "      <td>0</td>\n",
       "      <td>0</td>\n",
       "      <td>0</td>\n",
       "      <td>0</td>\n",
       "      <td>0</td>\n",
       "      <td>0</td>\n",
       "      <td>0</td>\n",
       "      <td>0</td>\n",
       "      <td>0</td>\n",
       "      <td>...</td>\n",
       "      <td>0</td>\n",
       "      <td>0</td>\n",
       "      <td>0</td>\n",
       "      <td>0</td>\n",
       "      <td>0</td>\n",
       "      <td>0</td>\n",
       "      <td>0</td>\n",
       "      <td>0</td>\n",
       "      <td>0</td>\n",
       "      <td>0</td>\n",
       "    </tr>\n",
       "    <tr>\n",
       "      <th>...</th>\n",
       "      <td>...</td>\n",
       "      <td>...</td>\n",
       "      <td>...</td>\n",
       "      <td>...</td>\n",
       "      <td>...</td>\n",
       "      <td>...</td>\n",
       "      <td>...</td>\n",
       "      <td>...</td>\n",
       "      <td>...</td>\n",
       "      <td>...</td>\n",
       "      <td>...</td>\n",
       "      <td>...</td>\n",
       "      <td>...</td>\n",
       "      <td>...</td>\n",
       "      <td>...</td>\n",
       "      <td>...</td>\n",
       "      <td>...</td>\n",
       "      <td>...</td>\n",
       "      <td>...</td>\n",
       "      <td>...</td>\n",
       "      <td>...</td>\n",
       "    </tr>\n",
       "    <tr>\n",
       "      <th>4850</th>\n",
       "      <td>0</td>\n",
       "      <td>0</td>\n",
       "      <td>0</td>\n",
       "      <td>0</td>\n",
       "      <td>0</td>\n",
       "      <td>0</td>\n",
       "      <td>0</td>\n",
       "      <td>0</td>\n",
       "      <td>0</td>\n",
       "      <td>0</td>\n",
       "      <td>...</td>\n",
       "      <td>0</td>\n",
       "      <td>0</td>\n",
       "      <td>0</td>\n",
       "      <td>0</td>\n",
       "      <td>0</td>\n",
       "      <td>0</td>\n",
       "      <td>0</td>\n",
       "      <td>0</td>\n",
       "      <td>0</td>\n",
       "      <td>0</td>\n",
       "    </tr>\n",
       "    <tr>\n",
       "      <th>4851</th>\n",
       "      <td>0</td>\n",
       "      <td>0</td>\n",
       "      <td>0</td>\n",
       "      <td>0</td>\n",
       "      <td>0</td>\n",
       "      <td>0</td>\n",
       "      <td>0</td>\n",
       "      <td>0</td>\n",
       "      <td>0</td>\n",
       "      <td>0</td>\n",
       "      <td>...</td>\n",
       "      <td>0</td>\n",
       "      <td>0</td>\n",
       "      <td>0</td>\n",
       "      <td>0</td>\n",
       "      <td>0</td>\n",
       "      <td>0</td>\n",
       "      <td>0</td>\n",
       "      <td>0</td>\n",
       "      <td>0</td>\n",
       "      <td>0</td>\n",
       "    </tr>\n",
       "    <tr>\n",
       "      <th>4852</th>\n",
       "      <td>0</td>\n",
       "      <td>0</td>\n",
       "      <td>0</td>\n",
       "      <td>0</td>\n",
       "      <td>0</td>\n",
       "      <td>0</td>\n",
       "      <td>0</td>\n",
       "      <td>0</td>\n",
       "      <td>0</td>\n",
       "      <td>0</td>\n",
       "      <td>...</td>\n",
       "      <td>0</td>\n",
       "      <td>0</td>\n",
       "      <td>0</td>\n",
       "      <td>0</td>\n",
       "      <td>0</td>\n",
       "      <td>0</td>\n",
       "      <td>0</td>\n",
       "      <td>0</td>\n",
       "      <td>0</td>\n",
       "      <td>0</td>\n",
       "    </tr>\n",
       "    <tr>\n",
       "      <th>4853</th>\n",
       "      <td>0</td>\n",
       "      <td>0</td>\n",
       "      <td>0</td>\n",
       "      <td>0</td>\n",
       "      <td>0</td>\n",
       "      <td>0</td>\n",
       "      <td>0</td>\n",
       "      <td>0</td>\n",
       "      <td>0</td>\n",
       "      <td>0</td>\n",
       "      <td>...</td>\n",
       "      <td>0</td>\n",
       "      <td>0</td>\n",
       "      <td>0</td>\n",
       "      <td>0</td>\n",
       "      <td>0</td>\n",
       "      <td>0</td>\n",
       "      <td>0</td>\n",
       "      <td>0</td>\n",
       "      <td>0</td>\n",
       "      <td>0</td>\n",
       "    </tr>\n",
       "    <tr>\n",
       "      <th>4854</th>\n",
       "      <td>0</td>\n",
       "      <td>0</td>\n",
       "      <td>0</td>\n",
       "      <td>0</td>\n",
       "      <td>0</td>\n",
       "      <td>0</td>\n",
       "      <td>0</td>\n",
       "      <td>0</td>\n",
       "      <td>0</td>\n",
       "      <td>0</td>\n",
       "      <td>...</td>\n",
       "      <td>0</td>\n",
       "      <td>0</td>\n",
       "      <td>0</td>\n",
       "      <td>0</td>\n",
       "      <td>0</td>\n",
       "      <td>0</td>\n",
       "      <td>0</td>\n",
       "      <td>0</td>\n",
       "      <td>0</td>\n",
       "      <td>0</td>\n",
       "    </tr>\n",
       "  </tbody>\n",
       "</table>\n",
       "<p>4855 rows × 3165 columns</p>\n",
       "</div>"
      ],
      "text/plain": [
       "      (    oz.) tomato sauce  (   oz.) tomato paste  \\\n",
       "0                          0                      0   \n",
       "1                          0                      0   \n",
       "2                          0                      0   \n",
       "3                          0                      0   \n",
       "4                          0                      0   \n",
       "...                      ...                    ...   \n",
       "4850                       0                      0   \n",
       "4851                       0                      0   \n",
       "4852                       0                      0   \n",
       "4853                       0                      0   \n",
       "4854                       0                      0   \n",
       "\n",
       "      (10 oz.) frozen chopped spinach  (14.5 oz.) diced tomatoes  \\\n",
       "0                                   0                          0   \n",
       "1                                   0                          0   \n",
       "2                                   0                          0   \n",
       "3                                   0                          0   \n",
       "4                                   0                          0   \n",
       "...                               ...                        ...   \n",
       "4850                                0                          0   \n",
       "4851                                0                          0   \n",
       "4852                                0                          0   \n",
       "4853                                0                          0   \n",
       "4854                                0                          0   \n",
       "\n",
       "      1% low-fat cottage cheese  1% low-fat milk  2% reduced-fat milk  \\\n",
       "0                             0                0                    0   \n",
       "1                             0                0                    0   \n",
       "2                             0                0                    0   \n",
       "3                             0                0                    0   \n",
       "4                             0                0                    0   \n",
       "...                         ...              ...                  ...   \n",
       "4850                          0                0                    0   \n",
       "4851                          0                0                    0   \n",
       "4852                          0                0                    0   \n",
       "4853                          0                0                    0   \n",
       "4854                          0                0                    0   \n",
       "\n",
       "      33% less sodium cooked deli ham  40% less sodium taco seasoning  \\\n",
       "0                                   0                               0   \n",
       "1                                   0                               0   \n",
       "2                                   0                               0   \n",
       "3                                   0                               0   \n",
       "4                                   0                               0   \n",
       "...                               ...                             ...   \n",
       "4850                                0                               0   \n",
       "4851                                0                               0   \n",
       "4852                                0                               0   \n",
       "4853                                0                               0   \n",
       "4854                                0                               0   \n",
       "\n",
       "      Alfredo sauce  ...  yellow summer squash  yellow tomato  yoghurt  yolk  \\\n",
       "0                 0  ...                     0              0        0     0   \n",
       "1                 0  ...                     0              0        0     0   \n",
       "2                 0  ...                     0              0        0     0   \n",
       "3                 0  ...                     0              0        0     0   \n",
       "4                 0  ...                     0              0        0     0   \n",
       "...             ...  ...                   ...            ...      ...   ...   \n",
       "4850              0  ...                     0              0        0     0   \n",
       "4851              0  ...                     0              0        0     0   \n",
       "4852              0  ...                     0              0        0     0   \n",
       "4853              0  ...                     0              0        0     0   \n",
       "4854              0  ...                     0              0        0     0   \n",
       "\n",
       "      yu choy  yukon gold potatoes  zest  zesty italian dressing  ziti  \\\n",
       "0           0                    0     0                       0     0   \n",
       "1           0                    1     0                       0     0   \n",
       "2           0                    0     0                       0     0   \n",
       "3           0                    0     0                       0     0   \n",
       "4           0                    0     0                       0     0   \n",
       "...       ...                  ...   ...                     ...   ...   \n",
       "4850        0                    0     0                       0     0   \n",
       "4851        0                    0     0                       0     0   \n",
       "4852        0                    0     0                       0     0   \n",
       "4853        0                    0     0                       0     0   \n",
       "4854        0                    0     0                       0     0   \n",
       "\n",
       "      zucchini  \n",
       "0            0  \n",
       "1            0  \n",
       "2            0  \n",
       "3            0  \n",
       "4            0  \n",
       "...        ...  \n",
       "4850         0  \n",
       "4851         0  \n",
       "4852         0  \n",
       "4853         0  \n",
       "4854         0  \n",
       "\n",
       "[4855 rows x 3165 columns]"
      ]
     },
     "execution_count": 15,
     "metadata": {},
     "output_type": "execute_result"
    }
   ],
   "source": [
    "x_trans_test"
   ]
  },
  {
   "cell_type": "code",
   "execution_count": 20,
   "metadata": {},
   "outputs": [],
   "source": [
    "# This was a manual way to reduce features, PCA performed better \n",
    "\n",
    "#x_trans.drop(x_trans.columns.difference(most_relevant.index), 1, inplace=True)"
   ]
  },
  {
   "cell_type": "code",
   "execution_count": 21,
   "metadata": {},
   "outputs": [],
   "source": [
    "# This was a manual way to reduce features, PCA performed better \n",
    "\n",
    "#x_trans_test.drop(x_trans_test.columns.difference(most_relevant.index), 1, inplace=True)"
   ]
  },
  {
   "cell_type": "markdown",
   "metadata": {},
   "source": [
    "We can see that the trainings data is a little bit imbalanced, for example there are 3 times more records of italian recipes than chinese recipes. We can balance this with SMOTE."
   ]
  },
  {
   "cell_type": "code",
   "execution_count": 22,
   "metadata": {},
   "outputs": [],
   "source": [
    "# ---------------------\n",
    "# Did not improve score\n",
    "# ---------------------\n",
    "\n",
    "# from imblearn.over_sampling import SMOTE\n",
    "# from imblearn.under_sampling import RandomUnderSampler\n",
    "# from imblearn.pipeline import Pipeline\n",
    "\n",
    "# over = SMOTE(sampling_strategy='auto', random_state=1703)\n",
    "# under = RandomUnderSampler(sampling_strategy='auto')\n",
    "# pipeline = Pipeline([('o', over), ('u', under)])\n",
    "\n",
    "# x_train_smote, y_train_smote = pipeline.fit_resample(x_trans.copy(), y.copy())\n",
    "# sns.countplot(y=y_train_smote)\n"
   ]
  },
  {
   "cell_type": "code",
   "execution_count": 23,
   "metadata": {},
   "outputs": [
    {
     "data": {
      "text/html": [
       "<div>\n",
       "<style scoped>\n",
       "    .dataframe tbody tr th:only-of-type {\n",
       "        vertical-align: middle;\n",
       "    }\n",
       "\n",
       "    .dataframe tbody tr th {\n",
       "        vertical-align: top;\n",
       "    }\n",
       "\n",
       "    .dataframe thead th {\n",
       "        text-align: right;\n",
       "    }\n",
       "</style>\n",
       "<table border=\"1\" class=\"dataframe\">\n",
       "  <thead>\n",
       "    <tr style=\"text-align: right;\">\n",
       "      <th></th>\n",
       "      <th>(    oz.) tomato sauce</th>\n",
       "      <th>(   oz.) tomato paste</th>\n",
       "      <th>(10 oz.) frozen chopped spinach</th>\n",
       "      <th>(10 oz.) frozen chopped spinach, thawed and squeezed dry</th>\n",
       "      <th>(14 oz.) sweetened condensed milk</th>\n",
       "      <th>(14.5 oz.) diced tomatoes</th>\n",
       "      <th>(15 oz.) refried beans</th>\n",
       "      <th>1% low-fat buttermilk</th>\n",
       "      <th>1% low-fat chocolate milk</th>\n",
       "      <th>1% low-fat cottage cheese</th>\n",
       "      <th>...</th>\n",
       "      <th>yuca</th>\n",
       "      <th>yukon gold</th>\n",
       "      <th>yukon gold potatoes</th>\n",
       "      <th>za'atar</th>\n",
       "      <th>zest</th>\n",
       "      <th>zesty italian dressing</th>\n",
       "      <th>zinfandel</th>\n",
       "      <th>ziti</th>\n",
       "      <th>zucchini</th>\n",
       "      <th>zucchini blossoms</th>\n",
       "    </tr>\n",
       "  </thead>\n",
       "  <tbody>\n",
       "    <tr>\n",
       "      <th>0</th>\n",
       "      <td>0</td>\n",
       "      <td>0</td>\n",
       "      <td>0</td>\n",
       "      <td>0</td>\n",
       "      <td>0</td>\n",
       "      <td>0</td>\n",
       "      <td>0</td>\n",
       "      <td>0</td>\n",
       "      <td>0</td>\n",
       "      <td>0</td>\n",
       "      <td>...</td>\n",
       "      <td>0</td>\n",
       "      <td>0</td>\n",
       "      <td>0</td>\n",
       "      <td>0</td>\n",
       "      <td>0</td>\n",
       "      <td>0</td>\n",
       "      <td>0</td>\n",
       "      <td>0</td>\n",
       "      <td>0</td>\n",
       "      <td>0</td>\n",
       "    </tr>\n",
       "    <tr>\n",
       "      <th>1</th>\n",
       "      <td>0</td>\n",
       "      <td>0</td>\n",
       "      <td>0</td>\n",
       "      <td>0</td>\n",
       "      <td>0</td>\n",
       "      <td>0</td>\n",
       "      <td>0</td>\n",
       "      <td>0</td>\n",
       "      <td>0</td>\n",
       "      <td>0</td>\n",
       "      <td>...</td>\n",
       "      <td>0</td>\n",
       "      <td>0</td>\n",
       "      <td>0</td>\n",
       "      <td>0</td>\n",
       "      <td>0</td>\n",
       "      <td>0</td>\n",
       "      <td>0</td>\n",
       "      <td>0</td>\n",
       "      <td>0</td>\n",
       "      <td>0</td>\n",
       "    </tr>\n",
       "    <tr>\n",
       "      <th>2</th>\n",
       "      <td>0</td>\n",
       "      <td>0</td>\n",
       "      <td>0</td>\n",
       "      <td>0</td>\n",
       "      <td>0</td>\n",
       "      <td>0</td>\n",
       "      <td>0</td>\n",
       "      <td>0</td>\n",
       "      <td>0</td>\n",
       "      <td>0</td>\n",
       "      <td>...</td>\n",
       "      <td>0</td>\n",
       "      <td>0</td>\n",
       "      <td>0</td>\n",
       "      <td>0</td>\n",
       "      <td>0</td>\n",
       "      <td>0</td>\n",
       "      <td>0</td>\n",
       "      <td>0</td>\n",
       "      <td>0</td>\n",
       "      <td>0</td>\n",
       "    </tr>\n",
       "    <tr>\n",
       "      <th>3</th>\n",
       "      <td>0</td>\n",
       "      <td>0</td>\n",
       "      <td>0</td>\n",
       "      <td>0</td>\n",
       "      <td>0</td>\n",
       "      <td>0</td>\n",
       "      <td>0</td>\n",
       "      <td>0</td>\n",
       "      <td>0</td>\n",
       "      <td>0</td>\n",
       "      <td>...</td>\n",
       "      <td>0</td>\n",
       "      <td>0</td>\n",
       "      <td>0</td>\n",
       "      <td>0</td>\n",
       "      <td>0</td>\n",
       "      <td>0</td>\n",
       "      <td>0</td>\n",
       "      <td>0</td>\n",
       "      <td>0</td>\n",
       "      <td>0</td>\n",
       "    </tr>\n",
       "    <tr>\n",
       "      <th>4</th>\n",
       "      <td>0</td>\n",
       "      <td>0</td>\n",
       "      <td>0</td>\n",
       "      <td>0</td>\n",
       "      <td>0</td>\n",
       "      <td>0</td>\n",
       "      <td>0</td>\n",
       "      <td>0</td>\n",
       "      <td>0</td>\n",
       "      <td>0</td>\n",
       "      <td>...</td>\n",
       "      <td>0</td>\n",
       "      <td>0</td>\n",
       "      <td>0</td>\n",
       "      <td>0</td>\n",
       "      <td>0</td>\n",
       "      <td>0</td>\n",
       "      <td>0</td>\n",
       "      <td>0</td>\n",
       "      <td>0</td>\n",
       "      <td>0</td>\n",
       "    </tr>\n",
       "    <tr>\n",
       "      <th>...</th>\n",
       "      <td>...</td>\n",
       "      <td>...</td>\n",
       "      <td>...</td>\n",
       "      <td>...</td>\n",
       "      <td>...</td>\n",
       "      <td>...</td>\n",
       "      <td>...</td>\n",
       "      <td>...</td>\n",
       "      <td>...</td>\n",
       "      <td>...</td>\n",
       "      <td>...</td>\n",
       "      <td>...</td>\n",
       "      <td>...</td>\n",
       "      <td>...</td>\n",
       "      <td>...</td>\n",
       "      <td>...</td>\n",
       "      <td>...</td>\n",
       "      <td>...</td>\n",
       "      <td>...</td>\n",
       "      <td>...</td>\n",
       "      <td>...</td>\n",
       "    </tr>\n",
       "    <tr>\n",
       "      <th>19412</th>\n",
       "      <td>0</td>\n",
       "      <td>0</td>\n",
       "      <td>0</td>\n",
       "      <td>0</td>\n",
       "      <td>0</td>\n",
       "      <td>0</td>\n",
       "      <td>0</td>\n",
       "      <td>0</td>\n",
       "      <td>0</td>\n",
       "      <td>0</td>\n",
       "      <td>...</td>\n",
       "      <td>0</td>\n",
       "      <td>0</td>\n",
       "      <td>0</td>\n",
       "      <td>0</td>\n",
       "      <td>0</td>\n",
       "      <td>0</td>\n",
       "      <td>0</td>\n",
       "      <td>0</td>\n",
       "      <td>0</td>\n",
       "      <td>0</td>\n",
       "    </tr>\n",
       "    <tr>\n",
       "      <th>19413</th>\n",
       "      <td>0</td>\n",
       "      <td>0</td>\n",
       "      <td>0</td>\n",
       "      <td>0</td>\n",
       "      <td>0</td>\n",
       "      <td>0</td>\n",
       "      <td>0</td>\n",
       "      <td>0</td>\n",
       "      <td>0</td>\n",
       "      <td>0</td>\n",
       "      <td>...</td>\n",
       "      <td>0</td>\n",
       "      <td>0</td>\n",
       "      <td>0</td>\n",
       "      <td>0</td>\n",
       "      <td>0</td>\n",
       "      <td>0</td>\n",
       "      <td>0</td>\n",
       "      <td>0</td>\n",
       "      <td>0</td>\n",
       "      <td>0</td>\n",
       "    </tr>\n",
       "    <tr>\n",
       "      <th>19414</th>\n",
       "      <td>0</td>\n",
       "      <td>0</td>\n",
       "      <td>0</td>\n",
       "      <td>0</td>\n",
       "      <td>0</td>\n",
       "      <td>0</td>\n",
       "      <td>0</td>\n",
       "      <td>0</td>\n",
       "      <td>0</td>\n",
       "      <td>0</td>\n",
       "      <td>...</td>\n",
       "      <td>0</td>\n",
       "      <td>0</td>\n",
       "      <td>0</td>\n",
       "      <td>0</td>\n",
       "      <td>0</td>\n",
       "      <td>0</td>\n",
       "      <td>0</td>\n",
       "      <td>0</td>\n",
       "      <td>0</td>\n",
       "      <td>0</td>\n",
       "    </tr>\n",
       "    <tr>\n",
       "      <th>19415</th>\n",
       "      <td>0</td>\n",
       "      <td>0</td>\n",
       "      <td>0</td>\n",
       "      <td>0</td>\n",
       "      <td>0</td>\n",
       "      <td>0</td>\n",
       "      <td>0</td>\n",
       "      <td>0</td>\n",
       "      <td>0</td>\n",
       "      <td>0</td>\n",
       "      <td>...</td>\n",
       "      <td>0</td>\n",
       "      <td>0</td>\n",
       "      <td>0</td>\n",
       "      <td>0</td>\n",
       "      <td>0</td>\n",
       "      <td>0</td>\n",
       "      <td>0</td>\n",
       "      <td>0</td>\n",
       "      <td>0</td>\n",
       "      <td>0</td>\n",
       "    </tr>\n",
       "    <tr>\n",
       "      <th>19416</th>\n",
       "      <td>0</td>\n",
       "      <td>0</td>\n",
       "      <td>0</td>\n",
       "      <td>0</td>\n",
       "      <td>0</td>\n",
       "      <td>0</td>\n",
       "      <td>0</td>\n",
       "      <td>0</td>\n",
       "      <td>0</td>\n",
       "      <td>0</td>\n",
       "      <td>...</td>\n",
       "      <td>0</td>\n",
       "      <td>0</td>\n",
       "      <td>0</td>\n",
       "      <td>0</td>\n",
       "      <td>0</td>\n",
       "      <td>0</td>\n",
       "      <td>0</td>\n",
       "      <td>0</td>\n",
       "      <td>0</td>\n",
       "      <td>0</td>\n",
       "    </tr>\n",
       "  </tbody>\n",
       "</table>\n",
       "<p>19417 rows × 5058 columns</p>\n",
       "</div>"
      ],
      "text/plain": [
       "       (    oz.) tomato sauce  (   oz.) tomato paste  \\\n",
       "0                           0                      0   \n",
       "1                           0                      0   \n",
       "2                           0                      0   \n",
       "3                           0                      0   \n",
       "4                           0                      0   \n",
       "...                       ...                    ...   \n",
       "19412                       0                      0   \n",
       "19413                       0                      0   \n",
       "19414                       0                      0   \n",
       "19415                       0                      0   \n",
       "19416                       0                      0   \n",
       "\n",
       "       (10 oz.) frozen chopped spinach  \\\n",
       "0                                    0   \n",
       "1                                    0   \n",
       "2                                    0   \n",
       "3                                    0   \n",
       "4                                    0   \n",
       "...                                ...   \n",
       "19412                                0   \n",
       "19413                                0   \n",
       "19414                                0   \n",
       "19415                                0   \n",
       "19416                                0   \n",
       "\n",
       "       (10 oz.) frozen chopped spinach, thawed and squeezed dry  \\\n",
       "0                                                      0          \n",
       "1                                                      0          \n",
       "2                                                      0          \n",
       "3                                                      0          \n",
       "4                                                      0          \n",
       "...                                                  ...          \n",
       "19412                                                  0          \n",
       "19413                                                  0          \n",
       "19414                                                  0          \n",
       "19415                                                  0          \n",
       "19416                                                  0          \n",
       "\n",
       "       (14 oz.) sweetened condensed milk  (14.5 oz.) diced tomatoes  \\\n",
       "0                                      0                          0   \n",
       "1                                      0                          0   \n",
       "2                                      0                          0   \n",
       "3                                      0                          0   \n",
       "4                                      0                          0   \n",
       "...                                  ...                        ...   \n",
       "19412                                  0                          0   \n",
       "19413                                  0                          0   \n",
       "19414                                  0                          0   \n",
       "19415                                  0                          0   \n",
       "19416                                  0                          0   \n",
       "\n",
       "       (15 oz.) refried beans  1% low-fat buttermilk  \\\n",
       "0                           0                      0   \n",
       "1                           0                      0   \n",
       "2                           0                      0   \n",
       "3                           0                      0   \n",
       "4                           0                      0   \n",
       "...                       ...                    ...   \n",
       "19412                       0                      0   \n",
       "19413                       0                      0   \n",
       "19414                       0                      0   \n",
       "19415                       0                      0   \n",
       "19416                       0                      0   \n",
       "\n",
       "       1% low-fat chocolate milk  1% low-fat cottage cheese  ...  yuca  \\\n",
       "0                              0                          0  ...     0   \n",
       "1                              0                          0  ...     0   \n",
       "2                              0                          0  ...     0   \n",
       "3                              0                          0  ...     0   \n",
       "4                              0                          0  ...     0   \n",
       "...                          ...                        ...  ...   ...   \n",
       "19412                          0                          0  ...     0   \n",
       "19413                          0                          0  ...     0   \n",
       "19414                          0                          0  ...     0   \n",
       "19415                          0                          0  ...     0   \n",
       "19416                          0                          0  ...     0   \n",
       "\n",
       "       yukon gold  yukon gold potatoes  za'atar  zest  zesty italian dressing  \\\n",
       "0               0                    0        0     0                       0   \n",
       "1               0                    0        0     0                       0   \n",
       "2               0                    0        0     0                       0   \n",
       "3               0                    0        0     0                       0   \n",
       "4               0                    0        0     0                       0   \n",
       "...           ...                  ...      ...   ...                     ...   \n",
       "19412           0                    0        0     0                       0   \n",
       "19413           0                    0        0     0                       0   \n",
       "19414           0                    0        0     0                       0   \n",
       "19415           0                    0        0     0                       0   \n",
       "19416           0                    0        0     0                       0   \n",
       "\n",
       "       zinfandel  ziti  zucchini  zucchini blossoms  \n",
       "0              0     0         0                  0  \n",
       "1              0     0         0                  0  \n",
       "2              0     0         0                  0  \n",
       "3              0     0         0                  0  \n",
       "4              0     0         0                  0  \n",
       "...          ...   ...       ...                ...  \n",
       "19412          0     0         0                  0  \n",
       "19413          0     0         0                  0  \n",
       "19414          0     0         0                  0  \n",
       "19415          0     0         0                  0  \n",
       "19416          0     0         0                  0  \n",
       "\n",
       "[19417 rows x 5058 columns]"
      ]
     },
     "execution_count": 23,
     "metadata": {},
     "output_type": "execute_result"
    }
   ],
   "source": [
    "x_trans"
   ]
  },
  {
   "cell_type": "code",
   "execution_count": 146,
   "metadata": {},
   "outputs": [],
   "source": [
    "full_dataset = x_trans.append(x_trans_test, ignore_index=True)\n"
   ]
  },
  {
   "cell_type": "code",
   "execution_count": 147,
   "metadata": {},
   "outputs": [],
   "source": [
    "full_dataset = full_dataset.fillna(0)"
   ]
  },
  {
   "cell_type": "code",
   "execution_count": 26,
   "metadata": {},
   "outputs": [],
   "source": [
    "number_of_components = len(full_dataset.columns)\n",
    "\n",
    "pca_model = PCA(n_components=number_of_components, svd_solver='full')\n",
    "pca_model.fit(full_dataset)"
   ]
  },
  {
   "cell_type": "code",
   "execution_count": null,
   "metadata": {},
   "outputs": [
    {
     "data": {
      "image/png": "[encoded data removed]",
      "text/plain": [
       "<Figure size 432x288 with 1 Axes>"
      ]
     },
     "metadata": {
      "needs_background": "light"
     },
     "output_type": "display_data"
    }
   ],
   "source": [
    "plt.plot(pca_model.explained_variance_)\n",
    "plt.xlabel('number of components')\n",
    "plt.ylabel('explained variance')\n",
    "plt.show()"
   ]
  },
  {
   "cell_type": "code",
   "execution_count": null,
   "metadata": {},
   "outputs": [
    {
     "data": {
      "image/png": "[encoded data removed]",
      "text/plain": [
       "<Figure size 432x288 with 1 Axes>"
      ]
     },
     "metadata": {
      "needs_background": "light"
     },
     "output_type": "display_data"
    }
   ],
   "source": [
    "EV = pca_model.explained_variance_[0:30]\n",
    "\n",
    "plt.plot(EV)\n",
    "\n",
    "\n",
    "plt.xlabel('number of components')\n",
    "plt.ylabel('explained variance')\n",
    "plt.xticks(np.arange(len(EV)), np.arange(1, len(EV)+1))  #Otherwise the x-axis starts at 1)\n",
    "plt.show()\n"
   ]
  },
  {
   "cell_type": "code",
   "execution_count": null,
   "metadata": {},
   "outputs": [
    {
     "data": {
      "image/png": "[encoded data removed]",
      "text/plain": [
       "<Figure size 432x288 with 1 Axes>"
      ]
     },
     "metadata": {
      "needs_background": "light"
     },
     "output_type": "display_data"
    }
   ],
   "source": [
    "CS = np.cumsum(pca_model.explained_variance_ratio_)[400:450]\n",
    "plt.plot(CS)\n",
    "plt.xlabel('number of components')\n",
    "plt.ylabel('explained variance')\n",
    "plt.xticks(np.arange(len(CS)), np.arange(1, len(CS)+1))\n",
    "\n",
    "plt.show()\n",
    "#450 is +/-80 procent of explained variance "
   ]
  },
  {
   "cell_type": "code",
   "execution_count": 148,
   "metadata": {},
   "outputs": [],
   "source": [
    "pca_model = PCA(n_components=450, svd_solver='full')\n",
    "pca_model.fit(full_dataset)\n",
    "pca_data= pca_model.transform(full_dataset)"
   ]
  },
  {
   "cell_type": "code",
   "execution_count": 149,
   "metadata": {},
   "outputs": [],
   "source": [
    "pca_data_train = pca_data[:len(x_trans)]\n",
    "pca_data_test = pca_data[len(x_trans):]"
   ]
  },
  {
   "cell_type": "markdown",
   "metadata": {},
   "source": [
    "# Training: Choose your poison\n",
    "**Goal: predict the label 'cuisine' from the ingredients.**\n",
    "\n"
   ]
  },
  {
   "cell_type": "markdown",
   "metadata": {},
   "source": [
    "## KNN"
   ]
  },
  {
   "cell_type": "code",
   "execution_count": 150,
   "metadata": {},
   "outputs": [],
   "source": [
    "x_train, x_val, y_train, y_val = train_test_split(pca_data_train,y, test_size=0.2, random_state=1234)"
   ]
  },
  {
   "cell_type": "code",
   "execution_count": null,
   "metadata": {},
   "outputs": [
    {
     "name": "stdout",
     "output_type": "stream",
     "text": [
      "Fitting 3 folds for each of 29 candidates, totalling 87 fits\n"
     ]
    },
    {
     "data": {
      "text/plain": [
       "{'n_neighbors': 9}"
      ]
     },
     "execution_count": 414,
     "metadata": {},
     "output_type": "execute_result"
    }
   ],
   "source": [
    "prec_scorer = make_scorer(metrics.accuracy_score)\n",
    "n_neighbors = np.arange(1,30)\n",
    "param_grid = {'n_neighbors': n_neighbors}\n",
    "knn = KNeighborsClassifier( )\n",
    "grid_search = GridSearchCV(estimator = knn, param_grid = param_grid, scoring=prec_scorer ,cv = 3,  verbose=2, n_jobs = -1)\n",
    "grid_search.fit(x_train, y_train)\n",
    "grid_search.best_params_"
   ]
  },
  {
   "cell_type": "code",
   "execution_count": null,
   "metadata": {},
   "outputs": [
    {
     "data": {
      "text/plain": [
       "<matplotlib.collections.PathCollection at 0x1f794c36be0>"
      ]
     },
     "execution_count": 415,
     "metadata": {},
     "output_type": "execute_result"
    },
    {
     "data": {
      "image/png": "[encoded data removed]",
      "text/plain": [
       "<Figure size 432x288 with 1 Axes>"
      ]
     },
     "metadata": {
      "needs_background": "light"
     },
     "output_type": "display_data"
    }
   ],
   "source": [
    "out2 = pd.DataFrame(grid_search.cv_results_)\n",
    "xlabel_names = ['n_neighbors']\n",
    "plt.scatter(out2['param_n_neighbors'], out2['mean_test_score'], c='blue')"
   ]
  },
  {
   "cell_type": "code",
   "execution_count": null,
   "metadata": {},
   "outputs": [
    {
     "name": "stdout",
     "output_type": "stream",
     "text": [
      "              precision    recall  f1-score   support\n",
      "\n",
      "     chinese       0.92      0.79      0.85       428\n",
      "      indian       0.80      0.70      0.74       496\n",
      "     italian       0.73      0.86      0.79      1242\n",
      "     mexican       0.88      0.71      0.78      1025\n",
      " southern_us       0.62      0.70      0.66       693\n",
      "\n",
      "    accuracy                           0.76      3884\n",
      "   macro avg       0.79      0.75      0.76      3884\n",
      "weighted avg       0.78      0.76      0.76      3884\n",
      "\n"
     ]
    }
   ],
   "source": [
    "y_pred_knn = grid_search.predict(x_val)\n",
    "print(classification_report(y_val, y_pred_knn))"
   ]
  },
  {
   "cell_type": "markdown",
   "metadata": {},
   "source": [
    "## Logistic regression"
   ]
  },
  {
   "cell_type": "code",
   "execution_count": 151,
   "metadata": {},
   "outputs": [
    {
     "name": "stderr",
     "output_type": "stream",
     "text": [
      "C:\\Users\\maxim\\AppData\\Local\\Programs\\Python\\Python38\\lib\\site-packages\\sklearn\\linear_model\\_logistic.py:763: ConvergenceWarning:\n",
      "\n",
      "lbfgs failed to converge (status=1):\n",
      "STOP: TOTAL NO. of ITERATIONS REACHED LIMIT.\n",
      "\n",
      "Increase the number of iterations (max_iter) or scale the data as shown in:\n",
      "    https://scikit-learn.org/stable/modules/preprocessing.html\n",
      "Please also refer to the documentation for alternative solver options:\n",
      "    https://scikit-learn.org/stable/modules/linear_model.html#logistic-regression\n",
      "\n"
     ]
    },
    {
     "data": {
      "text/plain": [
       "LogisticRegression(C=10000, max_iter=200)"
      ]
     },
     "execution_count": 151,
     "metadata": {},
     "output_type": "execute_result"
    }
   ],
   "source": [
    "logreg = LogisticRegression(C=10000, max_iter=200) \n",
    "logreg.fit(x_train, y_train)"
   ]
  },
  {
   "cell_type": "code",
   "execution_count": 152,
   "metadata": {},
   "outputs": [
    {
     "name": "stdout",
     "output_type": "stream",
     "text": [
      "0.9425094959119295\n",
      "0.8918640576725025\n"
     ]
    }
   ],
   "source": [
    "print(logreg.score(x_train, y_train))\n",
    "print(logreg.score(x_val, y_val))"
   ]
  },
  {
   "cell_type": "code",
   "execution_count": 153,
   "metadata": {},
   "outputs": [
    {
     "name": "stdout",
     "output_type": "stream",
     "text": [
      "              precision    recall  f1-score   support\n",
      "\n",
      "     chinese       0.89      0.92      0.90       428\n",
      "      indian       0.90      0.91      0.91       496\n",
      "     italian       0.91      0.90      0.90      1242\n",
      "     mexican       0.93      0.90      0.92      1025\n",
      " southern_us       0.81      0.82      0.82       693\n",
      "\n",
      "    accuracy                           0.89      3884\n",
      "   macro avg       0.89      0.89      0.89      3884\n",
      "weighted avg       0.89      0.89      0.89      3884\n",
      "\n"
     ]
    }
   ],
   "source": [
    "y_val_pred = logreg.predict(x_val)\n",
    "print(classification_report(y_val, y_val_pred))"
   ]
  },
  {
   "cell_type": "markdown",
   "metadata": {},
   "source": [
    "# Evaluation:"
   ]
  },
  {
   "cell_type": "markdown",
   "metadata": {},
   "source": [
    "## Performance Metrics\n"
   ]
  },
  {
   "cell_type": "markdown",
   "metadata": {},
   "source": [
    "## KNN"
   ]
  },
  {
   "cell_type": "code",
   "execution_count": null,
   "metadata": {},
   "outputs": [
    {
     "name": "stdout",
     "output_type": "stream",
     "text": [
      "              precision    recall  f1-score   support\n",
      "\n",
      "     chinese       0.92      0.75      0.82       563\n",
      "      indian       0.81      0.74      0.77       568\n",
      "     italian       0.74      0.88      0.80      1544\n",
      "     mexican       0.86      0.71      0.78      1305\n",
      " southern_us       0.63      0.70      0.66       875\n",
      "\n",
      "    accuracy                           0.77      4855\n",
      "   macro avg       0.79      0.75      0.77      4855\n",
      "weighted avg       0.78      0.77      0.77      4855\n",
      "\n"
     ]
    }
   ],
   "source": [
    "y_pred_knn_test = grid_search.predict(pca_data_test)\n",
    "print(classification_report(y_test, y_pred_knn_test))"
   ]
  },
  {
   "cell_type": "markdown",
   "metadata": {},
   "source": [
    "## Logistic regression"
   ]
  },
  {
   "cell_type": "code",
   "execution_count": 154,
   "metadata": {},
   "outputs": [
    {
     "name": "stdout",
     "output_type": "stream",
     "text": [
      "              precision    recall  f1-score   support\n",
      "\n",
      "     chinese       0.90      0.89      0.90       563\n",
      "      indian       0.89      0.91      0.90       568\n",
      "     italian       0.91      0.92      0.92      1544\n",
      "     mexican       0.92      0.91      0.91      1305\n",
      " southern_us       0.82      0.81      0.82       875\n",
      "\n",
      "    accuracy                           0.89      4855\n",
      "   macro avg       0.89      0.89      0.89      4855\n",
      "weighted avg       0.89      0.89      0.89      4855\n",
      "\n"
     ]
    }
   ],
   "source": [
    "y_log_pred_test = logreg.predict(pca_data_test)\n",
    "print(classification_report(y_test, y_log_pred_test))"
   ]
  },
  {
   "cell_type": "markdown",
   "metadata": {},
   "source": [
    "We can see the logistic regression performed better, so we will use that.\n",
    "I would go for a GBM in first instance but for computation time I just did KNN and logistic regression."
   ]
  },
  {
   "cell_type": "code",
   "execution_count": 155,
   "metadata": {},
   "outputs": [
    {
     "data": {
      "text/plain": [
       "array(['southern_us', 'mexican', 'indian', ..., 'southern_us', 'chinese',\n",
       "       'mexican'], dtype=object)"
      ]
     },
     "execution_count": 155,
     "metadata": {},
     "output_type": "execute_result"
    }
   ],
   "source": [
    "y_log_pred_test = logreg.predict(pca_data_test)\n",
    "y_log_pred_test"
   ]
  },
  {
   "cell_type": "markdown",
   "metadata": {},
   "source": [
    "## Confusion Matrix"
   ]
  },
  {
   "cell_type": "code",
   "execution_count": 156,
   "metadata": {},
   "outputs": [
    {
     "data": {
      "text/plain": [
       "[Text(0, 0.5, 'Chinese'),\n",
       " Text(0, 1.5, 'Indian'),\n",
       " Text(0, 2.5, 'Italian'),\n",
       " Text(0, 3.5, 'Mexican'),\n",
       " Text(0, 4.5, 'Southern_us')]"
      ]
     },
     "execution_count": 156,
     "metadata": {},
     "output_type": "execute_result"
    },
    {
     "data": {
      "image/png": "[encoded data removed]",
      "text/plain": [
       "<Figure size 432x288 with 2 Axes>"
      ]
     },
     "metadata": {
      "needs_background": "light"
     },
     "output_type": "display_data"
    }
   ],
   "source": [
    "# write code to plot a confusion matrix\n",
    "\n",
    "\n",
    "confusion_matrix = confusion_matrix(y_test, y_log_pred_test)\n",
    "\n",
    "ax= plt.subplot()\n",
    "sns.heatmap(confusion_matrix, annot=True, fmt='g', ax=ax); \n",
    "ax.set_xlabel('Predicted labels');ax.set_ylabel('True labels'); \n",
    "ax.set_title('Confusion Matrix'); \n",
    "ax.xaxis.set_ticklabels(['Chinese', 'Indian', 'Italian', 'Mexican', 'Southern_us']); ax.yaxis.set_ticklabels(['Chinese', 'Indian', 'Italian', 'Mexican', 'Southern_us'])"
   ]
  },
  {
   "cell_type": "markdown",
   "metadata": {},
   "source": [
    "## ROC Curve"
   ]
  },
  {
   "cell_type": "code",
   "execution_count": 157,
   "metadata": {},
   "outputs": [],
   "source": [
    "y_dense_test = LabelBinarizer().fit_transform(y_test)"
   ]
  },
  {
   "cell_type": "code",
   "execution_count": 158,
   "metadata": {},
   "outputs": [],
   "source": [
    "y_test_pred_prob = logreg.predict_proba(pca_data_test)"
   ]
  },
  {
   "cell_type": "code",
   "execution_count": 159,
   "metadata": {},
   "outputs": [],
   "source": [
    "n_classes = 5\n",
    "\n",
    "# Compute ROC curve and ROC area for each class\n",
    "fpr = dict()\n",
    "tpr = dict()\n",
    "roc_auc = dict()\n",
    "\n",
    "for i in range(n_classes):\n",
    "    fpr[i], tpr[i], _ = roc_curve(y_dense_test[:, i], y_test_pred_prob[:, i])\n",
    "    roc_auc[i] = auc(fpr[i], tpr[i])\n",
    "\n",
    "# Compute micro-average ROC curve and ROC area\n",
    "fpr[\"micro\"], tpr[\"micro\"], _ = roc_curve(y_dense_test.ravel(), y_test_pred_prob.ravel())\n",
    "roc_auc[\"micro\"] = auc(fpr[\"micro\"], tpr[\"micro\"])"
   ]
  },
  {
   "cell_type": "code",
   "execution_count": 163,
   "metadata": {},
   "outputs": [
    {
     "name": "stderr",
     "output_type": "stream",
     "text": [
      "<ipython-input-163-5d81e602536a>:9: DeprecationWarning:\n",
      "\n",
      "scipy.interp is deprecated and will be removed in SciPy 2.0.0, use numpy.interp instead\n",
      "\n"
     ]
    },
    {
     "data": {
      "image/png": "[encoded data removed]",
      "text/plain": [
       "<Figure size 432x288 with 1 Axes>"
      ]
     },
     "metadata": {
      "needs_background": "light"
     },
     "output_type": "display_data"
    }
   ],
   "source": [
    "classes = ['Chinese', 'Indian', 'Italian', 'Mexican', 'Southern_us']\n",
    "\n",
    "# First aggregate all false positive rates\n",
    "all_fpr = np.unique(np.concatenate([fpr[i] for i in range(n_classes)]))\n",
    "\n",
    "# Then interpolate all ROC curves at this points\n",
    "mean_tpr = np.zeros_like(all_fpr)\n",
    "for i in range(n_classes):\n",
    "    mean_tpr += interp(all_fpr, fpr[i], tpr[i])\n",
    "\n",
    "# Finally average it and compute AUC\n",
    "mean_tpr /= n_classes\n",
    "\n",
    "fpr[\"macro\"] = all_fpr\n",
    "tpr[\"macro\"] = mean_tpr\n",
    "roc_auc[\"macro\"] = auc(fpr[\"macro\"], tpr[\"macro\"])\n",
    "\n",
    "# Plot all ROC curves\n",
    "plt.figure()\n",
    "plt.plot(fpr[\"micro\"], tpr[\"micro\"],\n",
    "         label='micro-average ROC curve (area = {0:0.2f})'\n",
    "               ''.format(roc_auc[\"micro\"]),\n",
    "         color='deeppink', linestyle=':', linewidth=4)\n",
    "\n",
    "plt.plot(fpr[\"macro\"], tpr[\"macro\"],\n",
    "         label='macro-average ROC curve (area = {0:0.2f})'\n",
    "               ''.format(roc_auc[\"macro\"]),\n",
    "         color='navy', linestyle=':', linewidth=4)\n",
    "\n",
    "colors = cycle(['aqua', 'darkorange', 'cornflowerblue'])\n",
    "for i, color in zip(range(n_classes), colors):\n",
    "    plt.plot(fpr[i], tpr[i], color=color, lw=lw,\n",
    "             label='ROC curve of class {0} (area = {1:0.2f})'\n",
    "             ''.format(classes[i], roc_auc[i]))\n",
    "\n",
    "plt.plot([0, 1], [0, 1], 'k--', lw=lw)\n",
    "plt.xlim([0.0, 1.0])\n",
    "plt.ylim([0.0, 1.05])\n",
    "plt.xlabel('False Positive Rate')\n",
    "plt.ylabel('True Positive Rate')\n",
    "plt.title('Receiver operating for multi-class')\n",
    "plt.legend(loc=\"lower right\")\n",
    "plt.show()"
   ]
  }
 ],
 "metadata": {
  "interpreter": {
   "hash": "c4a6cc1c2df5ddd62d6925b2a7bdee9abacf912eab37272999970e810b9642fd"
  },
  "kernelspec": {
   "display_name": "Python 3.8.8 64-bit",
   "name": "python3"
  },
  "language_info": {
   "codemirror_mode": {
    "name": "ipython",
    "version": 3
   },
   "file_extension": ".py",
   "mimetype": "text/x-python",
   "name": "python",
   "nbconvert_exporter": "python",
   "pygments_lexer": "ipython3",
   "version": "3.8.8"
  }
 },
 "nbformat": 4,
 "nbformat_minor": 5
}
